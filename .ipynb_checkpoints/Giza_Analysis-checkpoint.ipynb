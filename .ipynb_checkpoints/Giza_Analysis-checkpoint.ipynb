{
 "cells": [
  {
   "cell_type": "code",
   "execution_count": 2,
   "metadata": {
    "collapsed": false
   },
   "outputs": [],
   "source": [
    "# Specific extraction of information from different formats\n",
    "\n",
    "# This extracts the latency in milliseconds from the ping's result format\n",
    "# 64 bytes from 13.66.225.134: icmp_seq=1 ttl=47 time=36.2 ms => 36.2\n",
    "def get_ping_list(file_name):\n",
    "    l = []\n",
    "    with open(file_name) as f:\n",
    "        for line in f:\n",
    "            try:\n",
    "                l.append(float(line.split()[6].split(\"=\")[1]))\n",
    "            except:\n",
    "                continue\n",
    "        if len(l) < 1000:\n",
    "            print file_name # to catch any deficiencies\n",
    "        return l\n",
    " \n",
    "# This extracts the latency from files that just have a number per row\n",
    "def get_integer_list(file_name):\n",
    "    l = []\n",
    "    with open(file_name) as f:\n",
    "        for line in f:\n",
    "            l.append(int(line))\n",
    "    return l\n"
   ]
  },
  {
   "cell_type": "code",
   "execution_count": 3,
   "metadata": {
    "collapsed": true
   },
   "outputs": [],
   "source": [
    "# Specifically for Data Analysis\n",
    "\n",
    "# get 2d arrar (matrix graph) of the different dc access. Each element is a list of result that can \n",
    "# be summarized\n",
    "def get_2d_data(from_dcs, to_dcs, file_format):\n",
    "    d = {}\n",
    "    for dc1 in from_dcs:\n",
    "        for dc2 in to_dcs:\n",
    "            d[(dc1, dc2)] = get_ping_list(file_format.format(dc1, dc2))\n",
    "    return d\n",
    "\n",
    "# reducer of the results returned by get_2d_data\n",
    "def do_2d_analysis(data, data_points, reducer, *args):\n",
    "    d = {}\n",
    "    for key in data:\n",
    "        if len(data[key]) == data_points:\n",
    "            d[key] = reducer(data[key], *args)\n",
    "        else:\n",
    "            d[key] = -1\n",
    "    return d\n",
    "\n",
    "# convert any analysis data into a table\n",
    "def make_2d_table(from_dcs, to_dcs, data, file_name):\n",
    "    import numpy as np\n",
    "    import pandas as pd\n",
    "    table = np.zeros((len(from_dcs), len(to_dcs)), dtype=np.int)\n",
    "    for i in range(len(from_dcs)):\n",
    "        for j in range(len(to_dcs)):\n",
    "            table[i][j] = data[(from_dcs[i], to_dcs[j])]\n",
    "    table = pd.DataFrame(table, index=from_dcs, columns=to_dcs)\n",
    "    table.to_csv(file_name, index=True, header=True, sep=',')"
   ]
  },
  {
   "cell_type": "code",
   "execution_count": 135,
   "metadata": {
    "collapsed": false
   },
   "outputs": [
    {
     "name": "stdout",
     "output_type": "stream",
     "text": [
      "ping_latency_raw/west-central-to-north-europe.log\n",
      "ping_latency_raw/north-europe-to-west-central.log\n"
     ]
    }
   ],
   "source": [
    "import numpy as np\n",
    "# Get the ping latencies\n",
    "dcs = ['central', 'west-central', 'north-central', 'east1', 'east2', 'south-central', 'west1', 'west2', 'north-europe', 'uk-west', 'japan-east', 'japan-west']\n",
    "file_format = 'ping_latency_raw/{}-to-{}.log'\n",
    "data = get_2d_data(dcs, dcs, file_format)\n",
    "percentiles = [10, 50, 75, 95]\n",
    "for p in percentiles:\n",
    "    data_summary = do_2d_analysis(data, 1000, np.percentile, p)\n",
    "    make_2d_table(dcs, dcs, data_summary, 'ping_latency_readable/ping_' + str(p) + '.csv')"
   ]
  },
  {
   "cell_type": "code",
   "execution_count": 132,
   "metadata": {
    "collapsed": false
   },
   "outputs": [],
   "source": [
    "d1 = get_integer_list('central_central_azure_container.log')"
   ]
  },
  {
   "cell_type": "code",
   "execution_count": null,
   "metadata": {
    "collapsed": true
   },
   "outputs": [],
   "source": []
  }
 ],
 "metadata": {
  "kernelspec": {
   "display_name": "Python 2",
   "language": "python",
   "name": "python2"
  },
  "language_info": {
   "codemirror_mode": {
    "name": "ipython",
    "version": 2
   },
   "file_extension": ".py",
   "mimetype": "text/x-python",
   "name": "python",
   "nbconvert_exporter": "python",
   "pygments_lexer": "ipython2",
   "version": "2.7.11"
  }
 },
 "nbformat": 4,
 "nbformat_minor": 0
}

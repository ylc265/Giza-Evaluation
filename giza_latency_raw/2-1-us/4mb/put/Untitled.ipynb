{
 "cells": [
  {
   "cell_type": "code",
   "execution_count": 1,
   "metadata": {
    "collapsed": true
   },
   "outputs": [],
   "source": [
    "dic = {}\n",
    "dic['south-central'] = '13.65.92.139'\n",
    "dic['west1'] = \"13.93.236.162\"\n",
    "dic['central'] = \"localhost\"\n",
    "def get_percentile(file_name, percentile):\n",
    "    from collections import defaultdict\n",
    "    d = defaultdict(list)\n",
    "    with open(file_name) as f:\n",
    "        for line in f:\n",
    "            l = line.split()\n",
    "            if len(l) == 3:\n",
    "                key = l[0] + l[1]\n",
    "                d[key].append(int(l[2]))\n",
    "            elif len(l) == 4:\n",
    "                key = l[0] + l[1] + l[2]\n",
    "                d[key].append(int(l[3]))\n",
    "            else:\n",
    "                d[l[0]].append(int(l[1]))\n",
    "    dic = {}\n",
    "    import numpy as np\n",
    "    for key, value in d.iteritems():\n",
    "        a = np.array(value)\n",
    "#         print np.amax(a)\n",
    "        p = np.percentile(a, percentile)/1000\n",
    "        dic[key] = p\n",
    "    return dic\n",
    "\n",
    "def data_breakdown_row(storage_name, percentile):\n",
    "    thrift_latency = get_percentile(\"giza_trace.log\", percentile)['Put_Thrift_Storage_' + dic[storage_name]]\n",
    "    azure_latency = get_percentile(storage_name + \"_storage_server.log\", percentile)['Put_Azure_us-' + storage_name]\n",
    "    difference = thrift_latency - azure_latency\n",
    "    return str(thrift_latency) + \"  |  \" + str(azure_latency) + \"  |  \" + str(difference)\n",
    "    \n",
    "def metadata_breakdown_row(storage_name, percentile):\n",
    "    thrift_latency = get_percentile(\"giza_trace.log\", percentile)['Accept_Phase_thrfit_Table_us-' + storage_name]\n",
    "    azure_latency = get_percentile(storage_name + \"_table_server.log\", percentile)['Accept_Phase_AzureTable_us-' + storage_name]\n",
    "    difference = thrift_latency - azure_latency\n",
    "    return str(thrift_latency) + \"  |  \" + str(azure_latency) + \"  |  \" + str(difference)\n"
   ]
  },
  {
   "cell_type": "code",
   "execution_count": 2,
   "metadata": {
    "collapsed": false
   },
   "outputs": [
    {
     "name": "stdout",
     "output_type": "stream",
     "text": [
      "Put              : 298.58265\n",
      "Data Path     Put: 295.57425\n",
      "Central       Put: 101.53095  |  97.33925  |  4.1917\n",
      "SCentral      Put: 250.06775  |  197.31035  |  52.7574\n",
      "West1         Put: 230.56035  |  157.4101  |  73.15025\n",
      "----------------------------------------------------------\n",
      "Metadata Path Put: 211.82555\n",
      "Get Highest Version: 17.015\n",
      "Do Fast Paxos     : 194.81055\n",
      "Central        Put: 77.8629  |  77.59505  |  0.26785\n",
      "SCentral       Put: 161.7613  |  137.66535  |  24.09595\n",
      "West1          Put: 186.80755  |  148.78985  |  38.0177\n"
     ]
    }
   ],
   "source": [
    "percentile = 95\n",
    "size = '4mb'\n",
    "f = 'performance_log/giza_latency_put_' + size + '.txt.log'\n",
    "print 'Put              : ' + str(get_percentile(f, percentile)['Put'])\n",
    "print 'Data Path     Put: ' + str(get_percentile(f, percentile)['SendErasureEncode'])\n",
    "print 'Central       Put: ' + data_breakdown_row('central', percentile)\n",
    "print 'SCentral      Put: ' + data_breakdown_row('south-central', percentile)\n",
    "print 'West1         Put: ' + data_breakdown_row('west1', percentile)\n",
    "print '----------------------------------------------------------'\n",
    "get_version_latency = get_percentile(f, percentile)['GetLocalHighestCommittedVersionNumber']\n",
    "fast_paxos_latency = get_percentile(f, percentile)['DoPhase2']\n",
    "print 'Metadata Path Put: ' + str(get_version_latency + fast_paxos_latency)\n",
    "print 'Get Highest Version: ' + str(get_version_latency)\n",
    "print 'Do Fast Paxos     : ' + str(fast_paxos_latency)\n",
    "print 'Central        Put: ' + metadata_breakdown_row('central', percentile)\n",
    "print 'SCentral       Put: ' + metadata_breakdown_row('south-central', percentile)\n",
    "print 'West1          Put: ' + metadata_breakdown_row('west1', percentile)\n"
   ]
  },
  {
   "cell_type": "code",
   "execution_count": 3,
   "metadata": {
    "collapsed": false
   },
   "outputs": [
    {
     "ename": "IOError",
     "evalue": "[Errno 2] No such file or directory: 'performance_log/giza_latency_get_4mb.txt.log'",
     "output_type": "error",
     "traceback": [
      "\u001b[0;31m---------------------------------------------------------------------------\u001b[0m",
      "\u001b[0;31mIOError\u001b[0m                                   Traceback (most recent call last)",
      "\u001b[0;32m<ipython-input-3-3d2179b005d6>\u001b[0m in \u001b[0;36m<module>\u001b[0;34m()\u001b[0m\n\u001b[1;32m     14\u001b[0m \u001b[0msize\u001b[0m \u001b[0;34m=\u001b[0m \u001b[0;34m'4mb'\u001b[0m\u001b[0;34m\u001b[0m\u001b[0m\n\u001b[1;32m     15\u001b[0m \u001b[0mf\u001b[0m \u001b[0;34m=\u001b[0m \u001b[0;34m'performance_log/giza_latency_get_'\u001b[0m \u001b[0;34m+\u001b[0m \u001b[0msize\u001b[0m \u001b[0;34m+\u001b[0m \u001b[0;34m'.txt.log'\u001b[0m\u001b[0;34m\u001b[0m\u001b[0m\n\u001b[0;32m---> 16\u001b[0;31m \u001b[0;32mprint\u001b[0m \u001b[0;34m'Get:               '\u001b[0m \u001b[0;34m+\u001b[0m \u001b[0mstr\u001b[0m\u001b[0;34m(\u001b[0m\u001b[0mget_percentile\u001b[0m\u001b[0;34m(\u001b[0m\u001b[0mf\u001b[0m\u001b[0;34m,\u001b[0m \u001b[0mpercentile\u001b[0m\u001b[0;34m)\u001b[0m\u001b[0;34m[\u001b[0m\u001b[0;34m'mainGet'\u001b[0m\u001b[0;34m]\u001b[0m\u001b[0;34m)\u001b[0m\u001b[0;34m\u001b[0m\u001b[0m\n\u001b[0m\u001b[1;32m     17\u001b[0m \u001b[0;32mprint\u001b[0m \u001b[0;34m'Data Path     Get: '\u001b[0m \u001b[0;34m+\u001b[0m \u001b[0mstr\u001b[0m\u001b[0;34m(\u001b[0m\u001b[0mget_percentile\u001b[0m\u001b[0;34m(\u001b[0m\u001b[0mf\u001b[0m\u001b[0;34m,\u001b[0m \u001b[0mpercentile\u001b[0m\u001b[0;34m)\u001b[0m\u001b[0;34m[\u001b[0m\u001b[0;34m'GetErasureEncode'\u001b[0m\u001b[0;34m]\u001b[0m\u001b[0;34m)\u001b[0m\u001b[0;34m\u001b[0m\u001b[0m\n\u001b[1;32m     18\u001b[0m \u001b[0;32mprint\u001b[0m \u001b[0;34m'Central       Get: '\u001b[0m \u001b[0;34m+\u001b[0m \u001b[0mdata_breakdown_row\u001b[0m\u001b[0;34m(\u001b[0m\u001b[0;34m'central'\u001b[0m\u001b[0;34m,\u001b[0m \u001b[0mpercentile\u001b[0m\u001b[0;34m)\u001b[0m\u001b[0;34m\u001b[0m\u001b[0m\n",
      "\u001b[0;32m<ipython-input-1-c31dd1661bda>\u001b[0m in \u001b[0;36mget_percentile\u001b[0;34m(file_name, percentile)\u001b[0m\n\u001b[1;32m      6\u001b[0m     \u001b[0;32mfrom\u001b[0m \u001b[0mcollections\u001b[0m \u001b[0;32mimport\u001b[0m \u001b[0mdefaultdict\u001b[0m\u001b[0;34m\u001b[0m\u001b[0m\n\u001b[1;32m      7\u001b[0m     \u001b[0md\u001b[0m \u001b[0;34m=\u001b[0m \u001b[0mdefaultdict\u001b[0m\u001b[0;34m(\u001b[0m\u001b[0mlist\u001b[0m\u001b[0;34m)\u001b[0m\u001b[0;34m\u001b[0m\u001b[0m\n\u001b[0;32m----> 8\u001b[0;31m     \u001b[0;32mwith\u001b[0m \u001b[0mopen\u001b[0m\u001b[0;34m(\u001b[0m\u001b[0mfile_name\u001b[0m\u001b[0;34m)\u001b[0m \u001b[0;32mas\u001b[0m \u001b[0mf\u001b[0m\u001b[0;34m:\u001b[0m\u001b[0;34m\u001b[0m\u001b[0m\n\u001b[0m\u001b[1;32m      9\u001b[0m         \u001b[0;32mfor\u001b[0m \u001b[0mline\u001b[0m \u001b[0;32min\u001b[0m \u001b[0mf\u001b[0m\u001b[0;34m:\u001b[0m\u001b[0;34m\u001b[0m\u001b[0m\n\u001b[1;32m     10\u001b[0m             \u001b[0ml\u001b[0m \u001b[0;34m=\u001b[0m \u001b[0mline\u001b[0m\u001b[0;34m.\u001b[0m\u001b[0msplit\u001b[0m\u001b[0;34m(\u001b[0m\u001b[0;34m)\u001b[0m\u001b[0;34m\u001b[0m\u001b[0m\n",
      "\u001b[0;31mIOError\u001b[0m: [Errno 2] No such file or directory: 'performance_log/giza_latency_get_4mb.txt.log'"
     ]
    }
   ],
   "source": [
    "def data_breakdown_row(storage_name, percentile):\n",
    "    thrift_latency = get_percentile(\"giza_trace.log\", percentile)['GET_Thrift_Storage_' + dic[storage_name]]\n",
    "    azure_latency = get_percentile(storage_name + \"_storage_server.log\", percentile)['Get_Azure_us-' + storage_name]\n",
    "    difference = thrift_latency - azure_latency\n",
    "    return str(thrift_latency) + \"  |  \" + str(azure_latency) + \"  |  \" + str(difference)\n",
    "    \n",
    "def metadata_breakdown_row(storage_name, percentile):\n",
    "    thrift_latency = get_percentile(\"giza_trace.log\", percentile)['Get_Highest_Version_Thrift_Table_us-' + storage_name]\n",
    "    azure_latency = get_percentile(storage_name + \"_table_server.log\", percentile)['Get_Highest_Version_Number_AzureTable_us-' + storage_name]\n",
    "    difference = thrift_latency - azure_latency\n",
    "    return str(thrift_latency) + \"  |  \" + str(azure_latency) + \"  |  \" + str(difference)\n",
    "\n",
    "percentile = 95\n",
    "size = '4mb'\n",
    "f = 'performance_log/giza_latency_get_' + size + '.txt.log'\n",
    "print 'Get:               ' + str(get_percentile(f, percentile)['mainGet'])\n",
    "print 'Data Path     Get: ' + str(get_percentile(f, percentile)['GetErasureEncode'])\n",
    "print 'Central       Get: ' + data_breakdown_row('central', percentile)\n",
    "print 'SCentral      Get: ' + data_breakdown_row('south-central', percentile)\n",
    "print '----------------------------------------------------------'\n",
    "get_version_latency = get_percentile(f, percentile)['GetLocal']\n",
    "print 'Get Local Highest Version: ' + str(get_version_latency)\n",
    "print 'Get Global Highest Version: ' + str(get_percentile(f, percentile)['GetGlobalHighestCommittedVersion'])\n",
    "print 'Central        Get: ' + metadata_breakdown_row('central', percentile)\n",
    "print 'SCentral       Get: ' + metadata_breakdown_row('south-central', percentile)"
   ]
  },
  {
   "cell_type": "code",
   "execution_count": null,
   "metadata": {
    "collapsed": true
   },
   "outputs": [],
   "source": [
    "def get_std(file_name, percentile):\n",
    "    from collections import defaultdict\n",
    "    d = defaultdict(list)\n",
    "    with open(file_name) as f:\n",
    "        for line in f:\n",
    "            l = line.split()\n",
    "            if len(l) == 3:\n",
    "                key = l[0] + l[1]\n",
    "                d[key].append(int(l[2]))\n",
    "            elif len(l) == 4:\n",
    "                key = l[0] + l[1] + l[2]\n",
    "                d[key].append(int(l[3]))\n",
    "            else:\n",
    "                d[l[0]].append(int(l[1]))\n",
    "    dic = {}\n",
    "    import numpy as np\n",
    "    for key, value in d.iteritems():\n",
    "        a = np.array(value)\n",
    "#         print np.amax(a)\n",
    "        p = np.std(a, percentile)/1000\n",
    "        dic[key] = p\n",
    "    return dic"
   ]
  }
 ],
 "metadata": {
  "kernelspec": {
   "display_name": "Python 2",
   "language": "python",
   "name": "python2"
  },
  "language_info": {
   "codemirror_mode": {
    "name": "ipython",
    "version": 2
   },
   "file_extension": ".py",
   "mimetype": "text/x-python",
   "name": "python",
   "nbconvert_exporter": "python",
   "pygments_lexer": "ipython2",
   "version": "2.7.11"
  }
 },
 "nbformat": 4,
 "nbformat_minor": 0
}

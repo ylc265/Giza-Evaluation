{
 "cells": [
  {
   "cell_type": "code",
   "execution_count": 17,
   "metadata": {
    "collapsed": true
   },
   "outputs": [],
   "source": [
    "dic = {}\n",
    "dic['us-south-central'] = '13.65.92.139'\n",
    "dic['us-west1'] = \"13.93.236.162\"\n",
    "dic['us-central'] = \"localhost\"\n",
    "dic['asia-japan-east'] = \"13.78.83.9\"\n",
    "dic['eu-north-europe'] = '52.178.201.184'\n",
    "dic['eu-uk-west'] = '51.141.11.143'\n",
    "dic['asia-japan-west'] = '104.214.146.200'\n",
    "def get_percentile(file_name, percentile):\n",
    "    from collections import defaultdict\n",
    "    d = defaultdict(list)\n",
    "    with open(file_name) as f:\n",
    "        for line in f:\n",
    "            l = line.split()\n",
    "            if len(l) == 3:\n",
    "                key = l[0] + l[1]\n",
    "                d[key].append(int(l[2]))\n",
    "            elif len(l) == 4:\n",
    "                key = l[0] + l[1] + l[2]\n",
    "                d[key].append(int(l[3]))\n",
    "            else:\n",
    "                if len(l) == 0 or len(l) == 1:\n",
    "                    continue\n",
    "\n",
    "                d[l[0]].append(int(l[1]))\n",
    "    dic = {}\n",
    "    import numpy as np\n",
    "    for key, value in d.iteritems():\n",
    "        a = np.array(value)\n",
    "#         print np.amax(a)\n",
    "        p = np.percentile(a, percentile)/1000\n",
    "        dic[key] = p\n",
    "    return dic\n",
    "\n",
    "def data_breakdown_row(fp, storage_name, percentile):\n",
    "    thrift_latency = get_percentile(fp + \"giza_trace.log\", percentile)['Put_Thrift_Storage_' + dic[storage_name]]\n",
    "    azure_latency = get_percentile(fp + storage_name + \"_storage_server.log\", percentile)['Put_Azure_' + storage_name]\n",
    "    difference = thrift_latency - azure_latency\n",
    "    return str(thrift_latency) + \"  |  \" + str(azure_latency) + \"  |  \" + str(difference)\n",
    "    \n",
    "def metadata_breakdown_row(fp, storage_name, percentile):\n",
    "    thrift_latency = get_percentile(fp + \"giza_trace.log\", percentile)['Accept_Phase_thrfit_Table_' + storage_name]\n",
    "    azure_latency = get_percentile(fp + storage_name + \"_table_server.log\", percentile)['Accept_Phase_AzureTable_' + storage_name]\n",
    "    difference = thrift_latency - azure_latency\n",
    "    return str(thrift_latency) + \"  |  \" + str(azure_latency) + \"  |  \" + str(difference)\n",
    "\n",
    "def get_data_breakdown_row(fp, storage_name, percentile):\n",
    "    thrift_latency = get_percentile(fp + \"giza_trace.log\", percentile)['GET_Thrift_Storage_' + dic[storage_name]]\n",
    "    azure_latency = get_percentile(fp + storage_name + \"_storage_server.log\", percentile)['Get_Azure_' + storage_name]\n",
    "    difference = thrift_latency - azure_latency\n",
    "    return str(thrift_latency) + \"  |  \" + str(azure_latency) + \"  |  \" + str(difference)\n",
    "    \n",
    "def get_metadata_breakdown_row(fp, storage_name, percentile):\n",
    "    thrift_latency = get_percentile(fp + \"giza_trace.log\", percentile)['Get_Highest_Version_Thrift_Table_' + storage_name]\n",
    "    azure_latency = get_percentile(fp + storage_name + \"_table_server.log\", percentile)['Get_Highest_Version_Number_AzureTable_' + storage_name]\n",
    "    difference = thrift_latency - azure_latency\n",
    "    return str(thrift_latency) + \"  |  \" + str(azure_latency) + \"  |  \" + str(difference)\n",
    "\n"
   ]
  },
  {
   "cell_type": "code",
   "execution_count": 16,
   "metadata": {
    "collapsed": false
   },
   "outputs": [],
   "source": [
    "def put_result(fp, percentile, size, three_dc):\n",
    "    f = fp + 'performance_log/giza_latency_put_' + size + '.txt.log'\n",
    "    print 'Put              : ' + str(get_percentile(f, percentile)['Put'])\n",
    "    print 'Data Path     Put: ' + str(get_percentile(f, percentile)['SendErasureEncode'])\n",
    "    print three_dc[0] + '       Put: ' + data_breakdown_row(fp, three_dc[0], percentile)\n",
    "    print three_dc[1] + '      Put: ' + data_breakdown_row(fp, three_dc[1], percentile)\n",
    "    print three_dc[2] + '         Put: ' + data_breakdown_row(fp, three_dc[2], percentile)\n",
    "    print '----------------------------------------------------------'\n",
    "    get_version_latency = get_percentile(f, percentile)['GetLocalHighestCommittedVersionNumber']\n",
    "    fast_paxos_latency = get_percentile(f, percentile)['DoPhase2']\n",
    "    print 'Metadata Path Put: ' + str(get_version_latency + fast_paxos_latency)\n",
    "    print 'Get Highest Version: ' + str(get_version_latency)\n",
    "    print 'Do Fast Paxos     : ' + str(fast_paxos_latency)\n",
    "    print three_dc[0] + '        Put: ' + metadata_breakdown_row(fp, three_dc[0], percentile)\n",
    "    print three_dc[1] + '       Put: ' + metadata_breakdown_row(fp, three_dc[1], percentile)\n",
    "    print three_dc[2] + '          Put: ' + metadata_breakdown_row(fp, three_dc[2], percentile)\n",
    "\n",
    "def get_result(fp, percentile, size, three_dc):\n",
    "    f = fp + 'performance_log/giza_latency_get_' + size + '.txt.log'\n",
    "    print 'Get:           ' + str(get_percentile(f, percentile)['mainGet'])\n",
    "    print 'Data Path Get: ' + str(get_percentile(f, percentile)['GetErasureEncode'])\n",
    "    print three_dc[0] + '       Get: ' + get_data_breakdown_row(fp, three_dc[0], percentile)\n",
    "    print three_dc[1] + '      Get: ' + get_data_breakdown_row(fp, three_dc[1], percentile)\n",
    "    print '----------------------------------------------------------'\n",
    "    get_version_latency = get_percentile(f, percentile)['GetLocal']\n",
    "    print 'Get Local Highest Version: ' + str(get_version_latency)\n",
    "    print 'Get Global Highest Version: ' + str(get_percentile(f, percentile)['GetGlobalHighestCommittedVersion'])\n",
    "    print three_dc[0] + '        Get: ' + get_metadata_breakdown_row(fp, three_dc[0], percentile)\n",
    "    print three_dc[1] + '       Get: ' + get_metadata_breakdown_row(fp, three_dc[1], percentile)\n"
   ]
  },
  {
   "cell_type": "code",
   "execution_count": 14,
   "metadata": {
    "collapsed": false
   },
   "outputs": [
    {
     "name": "stdout",
     "output_type": "stream",
     "text": [
      "{}\n"
     ]
    },
    {
     "ename": "KeyError",
     "evalue": "'Accept_Phase_AzureTable_eu-north-europe'",
     "output_type": "error",
     "traceback": [
      "\u001b[0;31m----------------------------------------------\u001b[0m",
      "\u001b[0;31mKeyError\u001b[0m     Traceback (most recent call last)",
      "\u001b[0;32m<ipython-input-14-d317f8737325>\u001b[0m in \u001b[0;36m<module>\u001b[0;34m()\u001b[0m\n\u001b[1;32m     10\u001b[0m \u001b[0mp\u001b[0m \u001b[0;34m=\u001b[0m \u001b[0;36m50\u001b[0m\u001b[0;34m\u001b[0m\u001b[0m\n\u001b[1;32m     11\u001b[0m \u001b[0;32mfor\u001b[0m \u001b[0mdc\u001b[0m \u001b[0;32min\u001b[0m \u001b[0mthree_dc\u001b[0m\u001b[0;34m:\u001b[0m\u001b[0;34m\u001b[0m\u001b[0m\n\u001b[0;32m---> 12\u001b[0;31m     \u001b[0ml\u001b[0m\u001b[0;34m.\u001b[0m\u001b[0mappend\u001b[0m\u001b[0;34m(\u001b[0m\u001b[0mmetadata_breakdown_row\u001b[0m\u001b[0;34m(\u001b[0m\u001b[0mfp\u001b[0m\u001b[0;34m,\u001b[0m \u001b[0mdc\u001b[0m\u001b[0;34m,\u001b[0m \u001b[0mp\u001b[0m\u001b[0;34m)\u001b[0m\u001b[0;34m)\u001b[0m\u001b[0;34m\u001b[0m\u001b[0m\n\u001b[0m",
      "\u001b[0;32m<ipython-input-14-d317f8737325>\u001b[0m in \u001b[0;36mmetadata_breakdown_row\u001b[0;34m(fp, storage_name, percentile)\u001b[0m\n\u001b[1;32m      2\u001b[0m \u001b[0;31m#     thrift_latency = get_percentile(fp + \"giza_trace.log\", percentile)['Accept_Phase_thrfit_Table_' + storage_name]\u001b[0m\u001b[0;34m\u001b[0m\u001b[0;34m\u001b[0m\u001b[0m\n\u001b[1;32m      3\u001b[0m     \u001b[0;32mprint\u001b[0m \u001b[0mget_percentile\u001b[0m\u001b[0;34m(\u001b[0m\u001b[0mfp\u001b[0m \u001b[0;34m+\u001b[0m \u001b[0mstorage_name\u001b[0m \u001b[0;34m+\u001b[0m \u001b[0;34m\"_table_server.log\"\u001b[0m\u001b[0;34m,\u001b[0m \u001b[0mpercentile\u001b[0m\u001b[0;34m)\u001b[0m\u001b[0;34m\u001b[0m\u001b[0m\n\u001b[0;32m----> 4\u001b[0;31m     \u001b[0mazure_latency\u001b[0m \u001b[0;34m=\u001b[0m \u001b[0mget_percentile\u001b[0m\u001b[0;34m(\u001b[0m\u001b[0mfp\u001b[0m \u001b[0;34m+\u001b[0m \u001b[0mstorage_name\u001b[0m \u001b[0;34m+\u001b[0m \u001b[0;34m\"_table_server.log\"\u001b[0m\u001b[0;34m,\u001b[0m \u001b[0mpercentile\u001b[0m\u001b[0;34m)\u001b[0m\u001b[0;34m[\u001b[0m\u001b[0;34m'Accept_Phase_AzureTable_'\u001b[0m \u001b[0;34m+\u001b[0m \u001b[0mstorage_name\u001b[0m\u001b[0;34m]\u001b[0m\u001b[0;34m\u001b[0m\u001b[0m\n\u001b[0m\u001b[1;32m      5\u001b[0m \u001b[0;31m#     difference = thrift_latency - azure_latency\u001b[0m\u001b[0;34m\u001b[0m\u001b[0;34m\u001b[0m\u001b[0m\n\u001b[1;32m      6\u001b[0m     \u001b[0;32mreturn\u001b[0m \u001b[0mazure_latency\u001b[0m\u001b[0;34m\u001b[0m\u001b[0m\n",
      "\u001b[0;31mKeyError\u001b[0m: 'Accept_Phase_AzureTable_eu-north-europe'"
     ]
    }
   ],
   "source": [
    "def metadata_breakdown_row(fp, storage_name, percentile):\n",
    "#     thrift_latency = get_percentile(fp + \"giza_trace.log\", percentile)['Accept_Phase_thrfit_Table_' + storage_name]\n",
    "    print get_percentile(fp + storage_name + \"_table_server.log\", percentile)\n",
    "    azure_latency = get_percentile(fp + storage_name + \"_table_server.log\", percentile)['Accept_Phase_AzureTable_' + storage_name]\n",
    "#     difference = thrift_latency - azure_latency\n",
    "    return azure_latency\n",
    "three_dc = ['eu-north-europe', 'us-central', 'asia-japan-east']\n",
    "fp = '4mb/put/'\n",
    "l = [] \n",
    "p = 50\n",
    "for dc in three_dc:\n",
    "    l.append(metadata_breakdown_row(fp, dc, p))"
   ]
  },
  {
   "cell_type": "code",
   "execution_count": 18,
   "metadata": {
    "collapsed": false
   },
   "outputs": [
    {
     "name": "stdout",
     "output_type": "stream",
     "text": [
      "Put              : 344.339\n",
      "Data Path     Put: 343.64\n",
      "us-central       Put: 35.5265  |  33.704  |  1.8225\n",
      "eu-north-europe      Put: 259.63  |  57.246  |  202.384\n",
      "asia-japan-east         Put: 305.143  |  31.76  |  273.383\n",
      "----------------------------------------------------------\n",
      "Metadata Path Put: 188.653\n",
      "Get Highest Version: 65.385\n",
      "Do Fast Paxos     : 123.268\n",
      "us-central        Put: 64.9425  |  64.811  |  0.1315\n"
     ]
    },
    {
     "ename": "KeyError",
     "evalue": "'Accept_Phase_thrfit_Table_eu-north-europe'",
     "output_type": "error",
     "traceback": [
      "\u001b[0;31m----------------------------------------------\u001b[0m",
      "\u001b[0;31mKeyError\u001b[0m     Traceback (most recent call last)",
      "\u001b[0;32m<ipython-input-18-2b5bb2f1cb45>\u001b[0m in \u001b[0;36m<module>\u001b[0;34m()\u001b[0m\n\u001b[1;32m      1\u001b[0m \u001b[0;31m# 2-1 US 4mb\u001b[0m\u001b[0;34m\u001b[0m\u001b[0;34m\u001b[0m\u001b[0m\n\u001b[1;32m      2\u001b[0m \u001b[0mthree_dc\u001b[0m \u001b[0;34m=\u001b[0m \u001b[0;34m[\u001b[0m\u001b[0;34m'us-central'\u001b[0m\u001b[0;34m,\u001b[0m \u001b[0;34m'eu-north-europe'\u001b[0m\u001b[0;34m,\u001b[0m \u001b[0;34m'asia-japan-east'\u001b[0m\u001b[0;34m]\u001b[0m\u001b[0;34m\u001b[0m\u001b[0m\n\u001b[0;32m----> 3\u001b[0;31m \u001b[0mput_result\u001b[0m\u001b[0;34m(\u001b[0m\u001b[0;34m'4mb/put/'\u001b[0m\u001b[0;34m,\u001b[0m \u001b[0;36m50\u001b[0m\u001b[0;34m,\u001b[0m \u001b[0;34m'4mb'\u001b[0m\u001b[0;34m,\u001b[0m \u001b[0mthree_dc\u001b[0m\u001b[0;34m)\u001b[0m\u001b[0;34m\u001b[0m\u001b[0m\n\u001b[0m\u001b[1;32m      4\u001b[0m \u001b[0;32mprint\u001b[0m \u001b[0;34m'###########################################################'\u001b[0m\u001b[0;34m\u001b[0m\u001b[0m\n\u001b[1;32m      5\u001b[0m \u001b[0mput_result\u001b[0m\u001b[0;34m(\u001b[0m\u001b[0;34m'2mb/put/'\u001b[0m\u001b[0;34m,\u001b[0m \u001b[0;36m50\u001b[0m\u001b[0;34m,\u001b[0m \u001b[0;34m'2mb'\u001b[0m\u001b[0;34m,\u001b[0m \u001b[0mthree_dc\u001b[0m\u001b[0;34m)\u001b[0m\u001b[0;34m\u001b[0m\u001b[0m\n",
      "\u001b[0;32m<ipython-input-16-e61c1a0557da>\u001b[0m in \u001b[0;36mput_result\u001b[0;34m(fp, percentile, size, three_dc)\u001b[0m\n\u001b[1;32m     13\u001b[0m     \u001b[0;32mprint\u001b[0m \u001b[0;34m'Do Fast Paxos     : '\u001b[0m \u001b[0;34m+\u001b[0m \u001b[0mstr\u001b[0m\u001b[0;34m(\u001b[0m\u001b[0mfast_paxos_latency\u001b[0m\u001b[0;34m)\u001b[0m\u001b[0;34m\u001b[0m\u001b[0m\n\u001b[1;32m     14\u001b[0m     \u001b[0;32mprint\u001b[0m \u001b[0mthree_dc\u001b[0m\u001b[0;34m[\u001b[0m\u001b[0;36m0\u001b[0m\u001b[0;34m]\u001b[0m \u001b[0;34m+\u001b[0m \u001b[0;34m'        Put: '\u001b[0m \u001b[0;34m+\u001b[0m \u001b[0mmetadata_breakdown_row\u001b[0m\u001b[0;34m(\u001b[0m\u001b[0mfp\u001b[0m\u001b[0;34m,\u001b[0m \u001b[0mthree_dc\u001b[0m\u001b[0;34m[\u001b[0m\u001b[0;36m0\u001b[0m\u001b[0;34m]\u001b[0m\u001b[0;34m,\u001b[0m \u001b[0mpercentile\u001b[0m\u001b[0;34m)\u001b[0m\u001b[0;34m\u001b[0m\u001b[0m\n\u001b[0;32m---> 15\u001b[0;31m     \u001b[0;32mprint\u001b[0m \u001b[0mthree_dc\u001b[0m\u001b[0;34m[\u001b[0m\u001b[0;36m1\u001b[0m\u001b[0;34m]\u001b[0m \u001b[0;34m+\u001b[0m \u001b[0;34m'       Put: '\u001b[0m \u001b[0;34m+\u001b[0m \u001b[0mmetadata_breakdown_row\u001b[0m\u001b[0;34m(\u001b[0m\u001b[0mfp\u001b[0m\u001b[0;34m,\u001b[0m \u001b[0mthree_dc\u001b[0m\u001b[0;34m[\u001b[0m\u001b[0;36m1\u001b[0m\u001b[0;34m]\u001b[0m\u001b[0;34m,\u001b[0m \u001b[0mpercentile\u001b[0m\u001b[0;34m)\u001b[0m\u001b[0;34m\u001b[0m\u001b[0m\n\u001b[0m\u001b[1;32m     16\u001b[0m     \u001b[0;32mprint\u001b[0m \u001b[0mthree_dc\u001b[0m\u001b[0;34m[\u001b[0m\u001b[0;36m2\u001b[0m\u001b[0;34m]\u001b[0m \u001b[0;34m+\u001b[0m \u001b[0;34m'          Put: '\u001b[0m \u001b[0;34m+\u001b[0m \u001b[0mmetadata_breakdown_row\u001b[0m\u001b[0;34m(\u001b[0m\u001b[0mfp\u001b[0m\u001b[0;34m,\u001b[0m \u001b[0mthree_dc\u001b[0m\u001b[0;34m[\u001b[0m\u001b[0;36m2\u001b[0m\u001b[0;34m]\u001b[0m\u001b[0;34m,\u001b[0m \u001b[0mpercentile\u001b[0m\u001b[0;34m)\u001b[0m\u001b[0;34m\u001b[0m\u001b[0m\n\u001b[1;32m     17\u001b[0m \u001b[0;34m\u001b[0m\u001b[0m\n",
      "\u001b[0;32m<ipython-input-17-bb95cd5268fd>\u001b[0m in \u001b[0;36mmetadata_breakdown_row\u001b[0;34m(fp, storage_name, percentile)\u001b[0m\n\u001b[1;32m     40\u001b[0m \u001b[0;34m\u001b[0m\u001b[0m\n\u001b[1;32m     41\u001b[0m \u001b[0;32mdef\u001b[0m \u001b[0mmetadata_breakdown_row\u001b[0m\u001b[0;34m(\u001b[0m\u001b[0mfp\u001b[0m\u001b[0;34m,\u001b[0m \u001b[0mstorage_name\u001b[0m\u001b[0;34m,\u001b[0m \u001b[0mpercentile\u001b[0m\u001b[0;34m)\u001b[0m\u001b[0;34m:\u001b[0m\u001b[0;34m\u001b[0m\u001b[0m\n\u001b[0;32m---> 42\u001b[0;31m     \u001b[0mthrift_latency\u001b[0m \u001b[0;34m=\u001b[0m \u001b[0mget_percentile\u001b[0m\u001b[0;34m(\u001b[0m\u001b[0mfp\u001b[0m \u001b[0;34m+\u001b[0m \u001b[0;34m\"giza_trace.log\"\u001b[0m\u001b[0;34m,\u001b[0m \u001b[0mpercentile\u001b[0m\u001b[0;34m)\u001b[0m\u001b[0;34m[\u001b[0m\u001b[0;34m'Accept_Phase_thrfit_Table_'\u001b[0m \u001b[0;34m+\u001b[0m \u001b[0mstorage_name\u001b[0m\u001b[0;34m]\u001b[0m\u001b[0;34m\u001b[0m\u001b[0m\n\u001b[0m\u001b[1;32m     43\u001b[0m     \u001b[0mazure_latency\u001b[0m \u001b[0;34m=\u001b[0m \u001b[0mget_percentile\u001b[0m\u001b[0;34m(\u001b[0m\u001b[0mfp\u001b[0m \u001b[0;34m+\u001b[0m \u001b[0mstorage_name\u001b[0m \u001b[0;34m+\u001b[0m \u001b[0;34m\"_table_server.log\"\u001b[0m\u001b[0;34m,\u001b[0m \u001b[0mpercentile\u001b[0m\u001b[0;34m)\u001b[0m\u001b[0;34m[\u001b[0m\u001b[0;34m'Accept_Phase_AzureTable_'\u001b[0m \u001b[0;34m+\u001b[0m \u001b[0mstorage_name\u001b[0m\u001b[0;34m]\u001b[0m\u001b[0;34m\u001b[0m\u001b[0m\n\u001b[1;32m     44\u001b[0m     \u001b[0mdifference\u001b[0m \u001b[0;34m=\u001b[0m \u001b[0mthrift_latency\u001b[0m \u001b[0;34m-\u001b[0m \u001b[0mazure_latency\u001b[0m\u001b[0;34m\u001b[0m\u001b[0m\n",
      "\u001b[0;31mKeyError\u001b[0m: 'Accept_Phase_thrfit_Table_eu-north-europe'"
     ]
    }
   ],
   "source": [
    "# 2-1 US 4mb\n",
    "three_dc = ['us-central', 'eu-north-europe', 'asia-japan-east']\n",
    "put_result('4mb/put/', 50, '4mb', three_dc)\n",
    "print '###########################################################'\n",
    "put_result('2mb/put/', 50, '2mb', three_dc)\n",
    "print '###########################################################'\n",
    "put_result('1mb/put/', 50, '1mb', three_dc)\n",
    "print '###########################################################'\n",
    "put_result('256kb/put/', 50, '256kb', three_dc)\n",
    "print '###########################################################'"
   ]
  },
  {
   "cell_type": "code",
   "execution_count": 22,
   "metadata": {
    "collapsed": false
   },
   "outputs": [
    {
     "name": "stdout",
     "output_type": "stream",
     "text": [
      "Get:               348.3411\n",
      "Data Path     Get: 319.27565\n",
      "us-central       Get: 83.56285  |  80.32705  |  3.2358\n",
      "eu-north-europe      Get: 315.4111  |  205.3346  |  110.0765\n",
      "----------------------------------------------------------\n",
      "Get Local Highest Version: 27.8263\n",
      "Get Global Highest Version: 118.3087\n",
      "us-central        Get: 14.62315  |  14.4739  |  0.14925\n",
      "eu-north-europe       Get: 118.05315  |  15.58015  |  102.473\n",
      "#############################################################\n",
      "Get:               309.26915\n",
      "Data Path     Get: 281.21195\n",
      "us-central       Get: 72.4401  |  71.21915  |  1.22095\n",
      "eu-north-europe      Get: 279.7214  |  169.69395  |  110.02745\n",
      "----------------------------------------------------------\n",
      "Get Local Highest Version: 35.17985\n",
      "Get Global Highest Version: 121.5108\n",
      "us-central        Get: 17.40555  |  17.3083  |  0.09725\n",
      "eu-north-europe       Get: 121.08305  |  19.00175  |  102.0813\n",
      "#############################################################\n",
      "Get:               360.894\n",
      "Data Path     Get: 329.17645\n",
      "us-central       Get: 65.4111  |  64.75895  |  0.65215\n",
      "eu-north-europe      Get: 328.36865  |  216.5477  |  111.82095\n",
      "----------------------------------------------------------\n",
      "Get Local Highest Version: 33.5435\n",
      "Get Global Highest Version: 118.224\n",
      "us-central        Get: 16.8659  |  16.77075  |  0.09515\n",
      "eu-north-europe       Get: 117.60775  |  15.1328  |  102.47495\n",
      "#############################################################\n",
      "Get:               334.2951\n",
      "Data Path     Get: 308.63855\n",
      "us-central       Get: 44.829  |  44.55675  |  0.27225\n",
      "eu-north-europe      Get: 304.84505  |  193.2606  |  111.58445\n",
      "----------------------------------------------------------\n",
      "Get Local Highest Version: 27.87485\n",
      "Get Global Highest Version: 115.998\n",
      "us-central        Get: 14.18965  |  14.0771  |  0.11255\n",
      "eu-north-europe       Get: 115.5833  |  13.35265  |  102.23065\n",
      "#############################################################\n"
     ]
    }
   ],
   "source": [
    "get_result('4mb/get/', 95, '4mb', three_dc)\n",
    "print '#############################################################'\n",
    "get_result('2mb/get/', 95, '2mb', three_dc)\n",
    "print '#############################################################'\n",
    "get_result('1mb/get/', 95, '1mb', three_dc)\n",
    "print '#############################################################'\n",
    "get_result('256kb/get/', 95, '256kb', three_dc)\n",
    "print '#############################################################'"
   ]
  },
  {
   "cell_type": "code",
   "execution_count": null,
   "metadata": {
    "collapsed": true
   },
   "outputs": [],
   "source": [
    "def get_std(file_name, percentile):\n",
    "    from collections import defaultdict\n",
    "    d = defaultdict(list)\n",
    "    with open(file_name) as f:\n",
    "        for line in f:\n",
    "            l = line.split()\n",
    "            if len(l) == 3:\n",
    "                key = l[0] + l[1]\n",
    "                d[key].append(int(l[2]))\n",
    "            elif len(l) == 4:\n",
    "                key = l[0] + l[1] + l[2]\n",
    "                d[key].append(int(l[3]))\n",
    "            else:\n",
    "                d[l[0]].append(int(l[1]))\n",
    "    dic = {}\n",
    "    import numpy as np\n",
    "    for key, value in d.iteritems():\n",
    "        a = np.array(value)\n",
    "#         print np.amax(a)\n",
    "        p = np.std(a, percentile)/1000\n",
    "        dic[key] = p\n",
    "    return dic"
   ]
  },
  {
   "cell_type": "code",
   "execution_count": 23,
   "metadata": {
    "collapsed": true
   },
   "outputs": [],
   "source": [
    "def get_list(file_name):\n",
    "    from collections import defaultdict\n",
    "    d = defaultdict(list)\n",
    "    with open(file_name) as f:\n",
    "        for line in f:\n",
    "            l = line.split()\n",
    "            if len(l) == 3:\n",
    "                key = l[0] + l[1]\n",
    "                d[key].append(int(l[2]))\n",
    "            elif len(l) == 4:\n",
    "                key = l[0] + l[1] + l[2]\n",
    "                d[key].append(int(l[3]))\n",
    "            else:\n",
    "                if len(l) == 0 or len(l) == 1:\n",
    "                    continue\n",
    "\n",
    "                d[l[0]].append(int(l[1]))\n",
    "    return d"
   ]
  },
  {
   "cell_type": "code",
   "execution_count": 37,
   "metadata": {
    "collapsed": false
   },
   "outputs": [
    {
     "name": "stdout",
     "output_type": "stream",
     "text": [
      "74406.5214785\n",
      "16780.6758329\n"
     ]
    }
   ],
   "source": [
    "import numpy as np\n",
    "a = get_list('4mb/put/eu-north-europe_table_server.log')\n",
    "print np.mean(a['Accept_Phase_AzureTable_eu-north-europe'])\n",
    "print np.std(a['Accept_Phase_AzureTable_eu-north-europe'])"
   ]
  },
  {
   "cell_type": "code",
   "execution_count": 4,
   "metadata": {
    "collapsed": true
   },
   "outputs": [],
   "source": [
    "def put_result_seven(fp, percentile, size, three_dc):\n",
    "    print len(three_dc)\n",
    "    f = fp + 'performance_log/giza_latency_put_' + size + '.txt.log'\n",
    "    print 'Put              : ' + str(get_percentile(f, percentile)['Put'])\n",
    "    print 'Data Path     Put: ' + str(get_percentile(f, percentile)['SendErasureEncode'])\n",
    "    print three_dc[0] + '       Put: ' + data_breakdown_row(fp, three_dc[0], percentile)\n",
    "    print three_dc[1] + '      Put: ' + data_breakdown_row(fp, three_dc[1], percentile)\n",
    "    print three_dc[2] + '         Put: ' + data_breakdown_row(fp, three_dc[2], percentile)\n",
    "    print three_dc[3] + '         Put: ' + data_breakdown_row(fp, three_dc[3], percentile)\n",
    "    print three_dc[4] + '         Put: ' + data_breakdown_row(fp, three_dc[4], percentile)\n",
    "    print three_dc[5] + '         Put: ' + data_breakdown_row(fp, three_dc[5], percentile)\n",
    "    print three_dc[6] + '         Put: ' + data_breakdown_row(fp, three_dc[6], percentile)\n",
    "    print '----------------------------------------------------------'\n",
    "    get_version_latency = get_percentile(f, percentile)['GetLocalHighestCommittedVersionNumber']\n",
    "    fast_paxos_latency = get_percentile(f, percentile)['DoPhase2']\n",
    "    print 'Metadata Path Put: ' + str(get_version_latency + fast_paxos_latency)\n",
    "    print 'Get Highest Version: ' + str(get_version_latency)\n",
    "    print 'Do Fast Paxos     : ' + str(fast_paxos_latency)\n",
    "    print three_dc[0] + '        Put: ' + metadata_breakdown_row(fp, three_dc[0], percentile)\n",
    "    print three_dc[1] + '       Put: ' + metadata_breakdown_row(fp, three_dc[1], percentile)\n",
    "    print three_dc[2] + '          Put: ' + metadata_breakdown_row(fp, three_dc[2], percentile)\n",
    "\n",
    "def get_result_seven(fp, percentile, size, three_dc):\n",
    "    f = fp + 'performance_log/giza_latency_get_' + size + '.txt.log'\n",
    "    print 'Get:               ' + str(get_percentile(f, percentile)['mainGet'])\n",
    "    print 'Data Path     Get: ' + str(get_percentile(f, percentile)['GetErasureEncode'])\n",
    "    print three_dc[0] + '       Get: ' + get_data_breakdown_row(fp, three_dc[0], percentile)\n",
    "    print three_dc[1] + '      Get: ' + get_data_breakdown_row(fp, three_dc[1], percentile)\n",
    "    print three_dc[2] + '      Get: ' + get_data_breakdown_row(fp, three_dc[2], percentile)\n",
    "    print three_dc[3] + '      Get: ' + get_data_breakdown_row(fp, three_dc[3], percentile)\n",
    "    print three_dc[4] + '      Get: ' + get_data_breakdown_row(fp, three_dc[4], percentile)\n",
    "    print three_dc[5] + '      Get: ' + get_data_breakdown_row(fp, three_dc[5], percentile)\n",
    "    print '----------------------------------------------------------'\n",
    "    get_version_latency = get_percentile(f, percentile)['GetLocal']\n",
    "    print 'Get Local Highest Version: ' + str(get_version_latency)\n",
    "    print 'Get Global Highest Version: ' + str(get_percentile(f, percentile)['GetGlobalHighestCommittedVersion'])\n",
    "    print three_dc[0] + '        Get: ' + get_metadata_breakdown_row(fp, three_dc[0], percentile)\n",
    "    print three_dc[1] + '       Get: ' + get_metadata_breakdown_row(fp, three_dc[1], percentile)"
   ]
  },
  {
   "cell_type": "code",
   "execution_count": 32,
   "metadata": {
    "collapsed": false
   },
   "outputs": [
    {
     "name": "stdout",
     "output_type": "stream",
     "text": [
      "7\n",
      "Put              : 413.539\n",
      "Data Path     Put: 409.045\n",
      "us-central       Put: 58.21635  |  56.336  |  1.88035\n",
      "us-south-central      Put: 178.59095  |  127.525  |  51.06595\n",
      "us-west1         Put: 190.99295  |  108.374  |  82.61895\n",
      "eu-north-europe         Put: 280.99585  |  81.121  |  199.87485\n",
      "eu-uk-west         Put: 249.0303  |  27.726  |  221.3043\n",
      "asia-japan-east         Put: 330.1205  |  74.639  |  255.4815\n",
      "asia-japan-west         Put: 340.6325  |  89.308  |  251.3245\n",
      "----------------------------------------------------------\n",
      "Metadata Path Put: 294.231\n",
      "Get Highest Version: 81.552\n",
      "Do Fast Paxos     : 212.679\n",
      "us-central        Put: 80.2503  |  80.494  |  -0.2437\n",
      "us-south-central       Put: 179.57445  |  156.723  |  22.85145\n",
      "us-west1          Put: 199.6127  |  162.236  |  37.3767\n",
      "#############################################\n"
     ]
    }
   ],
   "source": [
    "def put_result_seven(fp, percentile, size, three_dc):\n",
    "    print len(three_dc)\n",
    "    f = fp + 'performance_log/giza_latency_put_' + size + '.txt.log'\n",
    "    print 'Put              : ' + str(get_percentile(f, percentile)['Put'])\n",
    "    print 'Data Path     Put: ' + str(get_percentile(f, percentile)['SendErasureEncode'])\n",
    "    print three_dc[0] + '       Put: ' + data_breakdown_row(fp, three_dc[0], percentile)\n",
    "    print three_dc[1] + '      Put: ' + data_breakdown_row(fp, three_dc[1], percentile)\n",
    "    print three_dc[2] + '         Put: ' + data_breakdown_row(fp, three_dc[2], percentile)\n",
    "    print three_dc[3] + '         Put: ' + data_breakdown_row(fp, three_dc[3], percentile)\n",
    "    print three_dc[4] + '         Put: ' + data_breakdown_row(fp, three_dc[4], percentile)\n",
    "    print three_dc[5] + '         Put: ' + data_breakdown_row(fp, three_dc[5], percentile)\n",
    "    print three_dc[6] + '         Put: ' + data_breakdown_row(fp, three_dc[6], percentile)\n",
    "    print '----------------------------------------------------------'\n",
    "    get_version_latency = get_percentile(f, percentile)['GetLocalHighestCommittedVersionNumber']\n",
    "    fast_paxos_latency = get_percentile(f, percentile)['DoPhase2']\n",
    "    print 'Metadata Path Put: ' + str(get_version_latency + fast_paxos_latency)\n",
    "    print 'Get Highest Version: ' + str(get_version_latency)\n",
    "    print 'Do Fast Paxos     : ' + str(fast_paxos_latency)\n",
    "    print three_dc[0] + '        Put: ' + metadata_breakdown_row(fp, three_dc[0], percentile)\n",
    "    print three_dc[1] + '       Put: ' + metadata_breakdown_row(fp, three_dc[1], percentile)\n",
    "    print three_dc[2] + '          Put: ' + metadata_breakdown_row(fp, three_dc[2], percentile)\n",
    "\n",
    "three_dc = ['us-central', 'us-south-central', 'us-west1', 'eu-north-europe', 'eu-uk-west', 'asia-japan-east', 'asia-japan-west']\n",
    "put_result_seven('4mb/put/', 95, '4mb', three_dc)\n",
    "print '#############################################'"
   ]
  },
  {
   "cell_type": "code",
   "execution_count": 5,
   "metadata": {
    "collapsed": false
   },
   "outputs": [
    {
     "name": "stdout",
     "output_type": "stream",
     "text": [
      "7\n",
      "Put              : 413.539\n",
      "Data Path     Put: 409.045\n",
      "us-central       Put: 58.21635  |  56.336  |  1.88035\n",
      "us-south-central      Put: 178.59095  |  127.525  |  51.06595\n",
      "us-west1         Put: 190.99295  |  108.374  |  82.61895\n",
      "eu-north-europe         Put: 280.99585  |  81.121  |  199.87485\n",
      "eu-uk-west         Put: 249.0303  |  27.726  |  221.3043\n",
      "asia-japan-east         Put: 330.1205  |  74.639  |  255.4815\n",
      "asia-japan-west         Put: 340.6325  |  89.308  |  251.3245\n",
      "----------------------------------------------------------\n",
      "Metadata Path Put: 294.231\n",
      "Get Highest Version: 81.552\n",
      "Do Fast Paxos     : 212.679\n",
      "us-central        Put: 80.2503  |  80.494  |  -0.2437\n",
      "us-south-central       Put: 179.57445  |  156.723  |  22.85145\n",
      "us-west1          Put: 199.6127  |  162.236  |  37.3767\n",
      "#############################################################\n",
      "7\n",
      "Put              : 346.6224\n",
      "Data Path     Put: 338.8735\n",
      "us-central       Put: 55.18365  |  54.2925  |  0.89115\n",
      "us-south-central      Put: 158.1812  |  106.07095  |  52.11025\n",
      "us-west1         Put: 163.04315  |  84.8752  |  78.16795\n",
      "eu-north-europe         Put: 169.18015  |  54.52295  |  114.6572\n",
      "eu-uk-west         Put: 236.7457  |  18.7489  |  217.9968\n",
      "asia-japan-east         Put: 297.7005  |  28.70765  |  268.99285\n",
      "asia-japan-west         Put: 307.08535  |  71.2735  |  235.81185\n",
      "----------------------------------------------------------\n",
      "Metadata Path Put: 216.6393\n",
      "Get Highest Version: 16.42355\n",
      "Do Fast Paxos     : 200.21575\n",
      "us-central        Put: 78.7447  |  78.6268  |  0.1179\n",
      "us-south-central       Put: 176.9377  |  153.45335  |  23.48435\n",
      "us-west1          Put: 188.9587  |  150.79005  |  38.16865\n",
      "#############################################################\n",
      "7\n",
      "Put              : 309.39705\n",
      "Data Path     Put: 304.44175\n",
      "us-central       Put: 30.44455  |  29.7759  |  0.66865\n",
      "us-south-central      Put: 118.53435  |  77.11055  |  41.4238\n",
      "us-west1         Put: 141.51615  |  78.90365  |  62.6125\n",
      "eu-north-europe         Put: 228.5401  |  41.34555  |  187.19455\n",
      "eu-uk-west         Put: 129.82595  |  12.97735  |  116.8486\n",
      "asia-japan-east         Put: 292.0467  |  53.0448  |  239.0019\n",
      "asia-japan-west         Put: 186.96975  |  45.6552  |  141.31455\n",
      "----------------------------------------------------------\n",
      "Metadata Path Put: 227.2095\n",
      "Get Highest Version: 16.72615\n",
      "Do Fast Paxos     : 210.48335\n",
      "us-central        Put: 78.8993  |  78.78895  |  0.11035\n",
      "us-south-central       Put: 152.4106  |  128.9325  |  23.4781\n",
      "us-west1          Put: 203.13015  |  165.00105  |  38.1291\n",
      "#############################################################\n",
      "7\n",
      "Put              : 300.66065\n",
      "Data Path     Put: 262.77415\n",
      "us-central       Put: 23.2111  |  22.1712  |  1.0399\n",
      "us-south-central      Put: 111.30945  |  72.9244  |  38.38505\n",
      "us-west1         Put: 123.7202  |  62.5579  |  61.1623\n",
      "eu-north-europe         Put: 146.5802  |  35.82715  |  110.75305\n",
      "eu-uk-west         Put: 123.3632  |  9.11325  |  114.24995\n",
      "asia-japan-east         Put: 183.4062  |  29.0233  |  154.3829\n",
      "asia-japan-west         Put: 174.9361  |  35.9838  |  138.9523\n",
      "----------------------------------------------------------\n",
      "Metadata Path Put: 236.96235\n",
      "Get Highest Version: 16.60885\n",
      "Do Fast Paxos     : 220.3535\n",
      "us-central        Put: 77.07265  |  76.9619  |  0.11075\n",
      "us-south-central       Put: 165.52405  |  141.4887  |  24.03535\n",
      "us-west1          Put: 209.41165  |  171.3212  |  38.09045\n",
      "#############################################################\n"
     ]
    }
   ],
   "source": [
    "three_dc = ['us-central', 'us-south-central', 'us-west1', 'eu-north-europe', 'eu-uk-west', 'asia-japan-east', 'asia-japan-west']\n",
    "put_result_seven('4mb/put/', 95, '4mb', three_dc)\n",
    "print '#############################################################'\n",
    "put_result_seven('2mb/put/', 95, '2mb', three_dc)\n",
    "print '#############################################################'\n",
    "put_result_seven('1mb/put/', 95, '1mb', three_dc)\n",
    "print '#############################################################'\n",
    "put_result_seven('256kb/put/', 95, '256kb', three_dc)\n",
    "print '#############################################################'"
   ]
  },
  {
   "cell_type": "code",
   "execution_count": 6,
   "metadata": {
    "collapsed": false
   },
   "outputs": [
    {
     "name": "stdout",
     "output_type": "stream",
     "text": [
      "Get:               339.80175\n",
      "Data Path     Get: 317.5537\n",
      "us-central       Get: 63.7304  |  62.86125  |  0.86915\n",
      "us-south-central      Get: 184.93505  |  155.7241  |  29.21095\n",
      "us-west1      Get: 178.8976  |  128.3861  |  50.5115\n",
      "eu-north-europe      Get: 241.03905  |  127.548  |  113.49105\n",
      "eu-uk-west      Get: 153.4846  |  34.17675  |  119.30785\n",
      "asia-japan-east      Get: 229.17525  |  71.8923  |  157.28295\n",
      "----------------------------------------------------------\n",
      "Get Local Highest Version: 30.68395\n",
      "Get Global Highest Version: 67.61015\n",
      "us-central        Get: 13.4501  |  13.3551  |  0.095\n",
      "us-south-central       Get: 63.28305  |  39.50115  |  23.7819\n",
      "#############################################################\n",
      "Get:               404.20815\n",
      "Data Path     Get: 374.18305\n",
      "us-central       Get: 54.23315  |  53.47815  |  0.755\n",
      "us-south-central      Get: 266.16065  |  218.275  |  47.88565\n",
      "us-west1      Get: 197.92905  |  130.38025  |  67.5488\n",
      "eu-north-europe      Get: 304.55385  |  185.6086  |  118.94525\n",
      "eu-uk-west      Get: 144.38885  |  26.7251  |  117.66375\n",
      "asia-japan-east      Get: 208.88835  |  54.5217  |  154.36665\n",
      "----------------------------------------------------------\n",
      "Get Local Highest Version: 32.0597\n",
      "Get Global Highest Version: 63.1394\n",
      "us-central        Get: 15.5598  |  15.47565  |  0.08415\n",
      "us-south-central       Get: 62.6156  |  39.01765  |  23.59795\n",
      "#############################################################\n",
      "Get:               409.3286\n",
      "Data Path     Get: 381.84615\n",
      "us-central       Get: 40.411  |  39.7967  |  0.6143\n",
      "us-south-central      Get: 180.13915  |  151.5114  |  28.62775\n",
      "us-west1      Get: 181.82565  |  132.43945  |  49.3862\n",
      "eu-north-europe      Get: 283.1229  |  166.4788  |  116.6441\n",
      "eu-uk-west      Get: 138.83355  |  19.3976  |  119.43595\n",
      "asia-japan-east      Get: 216.5005  |  60.60695  |  155.89355\n",
      "----------------------------------------------------------\n",
      "Get Local Highest Version: 33.2701\n",
      "Get Global Highest Version: 56.56785\n",
      "us-central        Get: 13.2055  |  13.0867  |  0.1188\n",
      "us-south-central       Get: 52.70685  |  29.3093  |  23.39755\n",
      "#############################################################\n",
      "Get:               411.11355\n",
      "Data Path     Get: 389.61025\n",
      "us-central       Get: 34.52065  |  34.33945  |  0.1812\n",
      "us-south-central      Get: 180.9899  |  138.50985  |  42.48005\n",
      "us-west1      Get: 159.0737  |  111.1152  |  47.9585\n",
      "eu-north-europe      Get: 333.7997  |  213.2053  |  120.5944\n",
      "eu-uk-west      Get: 128.1193  |  9.5232  |  118.5961\n",
      "asia-japan-east      Get: 206.4432  |  49.9873  |  156.4559\n",
      "----------------------------------------------------------\n",
      "Get Local Highest Version: 33.0374\n",
      "Get Global Highest Version: 61.91355\n",
      "us-central        Get: 17.7716  |  17.68305  |  0.08855\n",
      "us-south-central       Get: 57.5198  |  34.11615  |  23.40365\n"
     ]
    }
   ],
   "source": [
    "get_result_seven('4mb/get/', 95, '4mb', three_dc)\n",
    "print '#############################################################'\n",
    "get_result_seven('2mb/get/', 95, '2mb', three_dc)\n",
    "print '#############################################################'\n",
    "get_result_seven('1mb/get/', 95, '1mb', three_dc)\n",
    "print '#############################################################'\n",
    "get_result_seven('256kb/get/', 95, '256kb', three_dc)"
   ]
  },
  {
   "cell_type": "code",
   "execution_count": 7,
   "metadata": {
    "collapsed": false
   },
   "outputs": [
    {
     "name": "stdout",
     "output_type": "stream",
     "text": [
      "Get:               339.80175\n",
      "Data Path     Get: 317.5537\n",
      "us-central       Get: 63.7304  |  62.86125  |  0.86915\n",
      "us-south-central      Get: 184.93505  |  155.7241  |  29.21095\n",
      "us-west1      Get: 178.8976  |  128.3861  |  50.5115\n",
      "eu-north-europe      Get: 241.03905  |  127.548  |  113.49105\n",
      "eu-uk-west      Get: 153.4846  |  34.17675  |  119.30785\n",
      "asia-japan-east      Get: 229.17525  |  71.8923  |  157.28295\n",
      "----------------------------------------------------------\n",
      "Get Local Highest Version: 30.68395\n",
      "Get Global Highest Version: 67.61015\n",
      "us-central        Get: 13.4501  |  13.3551  |  0.095\n",
      "us-south-central       Get: 63.28305  |  39.50115  |  23.7819\n",
      "#############################################################\n",
      "Get:               404.20815\n",
      "Data Path     Get: 374.18305\n",
      "us-central       Get: 54.23315  |  53.47815  |  0.755\n",
      "us-south-central      Get: 266.16065  |  218.275  |  47.88565\n",
      "us-west1      Get: 197.92905  |  130.38025  |  67.5488\n",
      "eu-north-europe      Get: 304.55385  |  185.6086  |  118.94525\n",
      "eu-uk-west      Get: 144.38885  |  26.7251  |  117.66375\n",
      "asia-japan-east      Get: 208.88835  |  54.5217  |  154.36665\n",
      "----------------------------------------------------------\n",
      "Get Local Highest Version: 32.0597\n",
      "Get Global Highest Version: 63.1394\n",
      "us-central        Get: 15.5598  |  15.47565  |  0.08415\n",
      "us-south-central       Get: 62.6156  |  39.01765  |  23.59795\n",
      "#############################################################\n",
      "Get:               409.3286\n",
      "Data Path     Get: 381.84615\n",
      "us-central       Get: 40.411  |  39.7967  |  0.6143\n",
      "us-south-central      Get: 180.13915  |  151.5114  |  28.62775\n",
      "us-west1      Get: 181.82565  |  132.43945  |  49.3862\n",
      "eu-north-europe      Get: 283.1229  |  166.4788  |  116.6441\n",
      "eu-uk-west      Get: 138.83355  |  19.3976  |  119.43595\n",
      "asia-japan-east      Get: 216.5005  |  60.60695  |  155.89355\n",
      "----------------------------------------------------------\n",
      "Get Local Highest Version: 33.2701\n",
      "Get Global Highest Version: 56.56785\n",
      "us-central        Get: 13.2055  |  13.0867  |  0.1188\n",
      "us-south-central       Get: 52.70685  |  29.3093  |  23.39755\n",
      "#############################################################\n",
      "Get:               411.11355\n",
      "Data Path     Get: 389.61025\n",
      "us-central       Get: 34.52065  |  34.33945  |  0.1812\n",
      "us-south-central      Get: 180.9899  |  138.50985  |  42.48005\n",
      "us-west1      Get: 159.0737  |  111.1152  |  47.9585\n",
      "eu-north-europe      Get: 333.7997  |  213.2053  |  120.5944\n",
      "eu-uk-west      Get: 128.1193  |  9.5232  |  118.5961\n",
      "asia-japan-east      Get: 206.4432  |  49.9873  |  156.4559\n",
      "----------------------------------------------------------\n",
      "Get Local Highest Version: 33.0374\n",
      "Get Global Highest Version: 61.91355\n",
      "us-central        Get: 17.7716  |  17.68305  |  0.08855\n",
      "us-south-central       Get: 57.5198  |  34.11615  |  23.40365\n"
     ]
    }
   ],
   "source": [
    "get_result_seven('4mb/get/', 95, '4mb', three_dc)\n",
    "print '#############################################################'\n",
    "get_result_seven('2mb/get/', 95, '2mb', three_dc)\n",
    "print '#############################################################'\n",
    "get_result_seven('1mb/get/', 95, '1mb', three_dc)\n",
    "print '#############################################################'\n",
    "get_result_seven('256kb/get/', 95, '256kb', three_dc)"
   ]
  },
  {
   "cell_type": "code",
   "execution_count": null,
   "metadata": {
    "collapsed": true
   },
   "outputs": [],
   "source": []
  }
 ],
 "metadata": {
  "kernelspec": {
   "display_name": "Python 2",
   "language": "python",
   "name": "python2"
  },
  "language_info": {
   "codemirror_mode": {
    "name": "ipython",
    "version": 2
   },
   "file_extension": ".py",
   "mimetype": "text/x-python",
   "name": "python",
   "nbconvert_exporter": "python",
   "pygments_lexer": "ipython2",
   "version": "2.7.11"
  }
 },
 "nbformat": 4,
 "nbformat_minor": 0
}

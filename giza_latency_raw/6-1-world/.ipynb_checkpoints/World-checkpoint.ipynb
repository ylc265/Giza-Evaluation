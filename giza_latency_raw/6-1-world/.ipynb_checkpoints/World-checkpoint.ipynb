{
 "cells": [
  {
   "cell_type": "code",
   "execution_count": 6,
   "metadata": {
    "collapsed": true
   },
   "outputs": [],
   "source": [
    "dic = {}\n",
    "dic['us-south-central'] = '13.65.92.139'\n",
    "dic['us-west1'] = \"13.93.236.162\"\n",
    "dic['us-central'] = \"localhost\"\n",
    "dic['asia-japan-east'] = \"13.78.83.9\"\n",
    "dic['eu-north-europe'] = '52.178.201.184'\n",
    "dic['eu-uk-west'] = '51.141.11.143'\n",
    "dic['asia-japan-west'] = ''\n",
    "def get_percentile(file_name, percentile):\n",
    "    from collections import defaultdict\n",
    "    d = defaultdict(list)\n",
    "    with open(file_name) as f:\n",
    "        for line in f:\n",
    "            l = line.split()\n",
    "            if len(l) == 3:\n",
    "                key = l[0] + l[1]\n",
    "                d[key].append(int(l[2]))\n",
    "            elif len(l) == 4:\n",
    "                key = l[0] + l[1] + l[2]\n",
    "                d[key].append(int(l[3]))\n",
    "            else:\n",
    "                if len(l) == 0 or len(l) == 1:\n",
    "                    continue\n",
    "\n",
    "                d[l[0]].append(int(l[1]))\n",
    "    dic = {}\n",
    "    import numpy as np\n",
    "    for key, value in d.iteritems():\n",
    "        a = np.array(value)\n",
    "#         print np.amax(a)\n",
    "        p = np.percentile(a, percentile)/1000\n",
    "        dic[key] = p\n",
    "    return dic\n",
    "\n",
    "def data_breakdown_row(fp, storage_name, percentile):\n",
    "    thrift_latency = get_percentile(fp + \"giza_trace.log\", percentile)['Put_Thrift_Storage_' + dic[storage_name]]\n",
    "    azure_latency = get_percentile(fp + storage_name + \"_storage_server.log\", percentile)['Put_Azure_' + storage_name]\n",
    "    difference = thrift_latency - azure_latency\n",
    "    return str(thrift_latency) + \"  |  \" + str(azure_latency) + \"  |  \" + str(difference)\n",
    "    \n",
    "def metadata_breakdown_row(fp, storage_name, percentile):\n",
    "    thrift_latency = get_percentile(fp + \"giza_trace.log\", percentile)['Accept_Phase_thrfit_Table_' + storage_name]\n",
    "    azure_latency = get_percentile(fp + storage_name + \"_table_server.log\", percentile)['Accept_Phase_AzureTable_' + storage_name]\n",
    "    difference = thrift_latency - azure_latency\n",
    "    return str(thrift_latency) + \"  |  \" + str(azure_latency) + \"  |  \" + str(difference)\n",
    "\n",
    "def get_data_breakdown_row(fp, storage_name, percentile):\n",
    "    thrift_latency = get_percentile(fp + \"giza_trace.log\", percentile)['GET_Thrift_Storage_' + dic[storage_name]]\n",
    "    azure_latency = get_percentile(fp + storage_name + \"_storage_server.log\", percentile)['Get_Azure_' + storage_name]\n",
    "    difference = thrift_latency - azure_latency\n",
    "    return str(thrift_latency) + \"  |  \" + str(azure_latency) + \"  |  \" + str(difference)\n",
    "    \n",
    "def get_metadata_breakdown_row(fp, storage_name, percentile):\n",
    "    thrift_latency = get_percentile(fp + \"giza_trace.log\", percentile)['Get_Highest_Version_Thrift_Table_' + storage_name]\n",
    "    azure_latency = get_percentile(fp + storage_name + \"_table_server.log\", percentile)['Get_Highest_Version_Number_AzureTable_' + storage_name]\n",
    "    difference = thrift_latency - azure_latency\n",
    "    return str(thrift_latency) + \"  |  \" + str(azure_latency) + \"  |  \" + str(difference)\n",
    "\n"
   ]
  },
  {
   "cell_type": "code",
   "execution_count": 2,
   "metadata": {
    "collapsed": false
   },
   "outputs": [],
   "source": [
    "def put_result(fp, percentile, size, three_dc):\n",
    "    f = fp + 'performance_log/giza_latency_put_' + size + '.txt.log'\n",
    "    print 'Put              : ' + str(get_percentile(f, percentile)['Put'])\n",
    "    print 'Data Path     Put: ' + str(get_percentile(f, percentile)['SendErasureEncode'])\n",
    "    print three_dc[0] + '       Put: ' + data_breakdown_row(fp, three_dc[0], percentile)\n",
    "    print three_dc[1] + '      Put: ' + data_breakdown_row(fp, three_dc[1], percentile)\n",
    "    print three_dc[2] + '         Put: ' + data_breakdown_row(fp, three_dc[2], percentile)\n",
    "    print '----------------------------------------------------------'\n",
    "    get_version_latency = get_percentile(f, percentile)['GetLocalHighestCommittedVersionNumber']\n",
    "    fast_paxos_latency = get_percentile(f, percentile)['DoPhase2']\n",
    "    print 'Metadata Path Put: ' + str(get_version_latency + fast_paxos_latency)\n",
    "    print 'Get Highest Version: ' + str(get_version_latency)\n",
    "    print 'Do Fast Paxos     : ' + str(fast_paxos_latency)\n",
    "    print three_dc[0] + '        Put: ' + metadata_breakdown_row(fp, three_dc[0], percentile)\n",
    "    print three_dc[1] + '       Put: ' + metadata_breakdown_row(fp, three_dc[1], percentile)\n",
    "    print three_dc[2] + '          Put: ' + metadata_breakdown_row(fp, three_dc[2], percentile)\n",
    "\n",
    "def get_result(fp, percentile, size, three_dc):\n",
    "    f = fp + 'performance_log/giza_latency_get_' + size + '.txt.log'\n",
    "    print 'Get:               ' + str(get_percentile(f, percentile)['mainGet'])\n",
    "    print 'Data Path     Get: ' + str(get_percentile(f, percentile)['GetErasureEncode'])\n",
    "    print three_dc[0] + '       Get: ' + get_data_breakdown_row(fp, three_dc[0], percentile)\n",
    "    print three_dc[1] + '      Get: ' + get_data_breakdown_row(fp, three_dc[1], percentile)\n",
    "    print '----------------------------------------------------------'\n",
    "    get_version_latency = get_percentile(f, percentile)['GetLocal']\n",
    "    print 'Get Local Highest Version: ' + str(get_version_latency)\n",
    "    print 'Get Global Highest Version: ' + str(get_percentile(f, percentile)['GetGlobalHighestCommittedVersion'])\n",
    "    print three_dc[0] + '        Get: ' + get_metadata_breakdown_row(fp, three_dc[0], percentile)\n",
    "    print three_dc[1] + '       Get: ' + get_metadata_breakdown_row(fp, three_dc[1], percentile)\n"
   ]
  },
  {
   "cell_type": "code",
   "execution_count": 38,
   "metadata": {
    "collapsed": false
   },
   "outputs": [
    {
     "name": "stdout",
     "output_type": "stream",
     "text": [
      "Put              : 374.449\n",
      "Data Path     Put: 373.928\n",
      "us-central       Put: 71.334  |  66.725  |  4.609\n",
      "eu-north-europe      Put: 341.648  |  132.661  |  208.987\n",
      "asia-japan-east         Put: 333.4  |  60.742  |  272.658\n",
      "----------------------------------------------------------\n",
      "Metadata Path Put: 269.686\n",
      "Get Highest Version: 66.848\n",
      "Do Fast Paxos     : 202.838\n",
      "us-central        Put: 66.028  |  65.902  |  0.126\n",
      "eu-north-europe       Put: 173.077  |  70.917  |  102.16\n",
      "asia-japan-east          Put: 202.284  |  63.055  |  139.229\n",
      "###########################################################\n",
      "Put              : 229.2265\n",
      "Data Path     Put: 217.173\n",
      "us-central       Put: 43.8355  |  41.607  |  2.2285\n",
      "eu-north-europe      Put: 187.822  |  76.6855  |  111.1365\n",
      "asia-japan-east         Put: 181.5485  |  34.998  |  146.5505\n",
      "----------------------------------------------------------\n",
      "Metadata Path Put: 209.119\n",
      "Get Highest Version: 6.727\n",
      "Do Fast Paxos     : 202.392\n",
      "us-central        Put: 65.959  |  65.829  |  0.13\n",
      "eu-north-europe       Put: 171.3085  |  69.157  |  102.1515\n",
      "asia-japan-east          Put: 201.872  |  62.8795  |  138.9925\n",
      "###########################################################\n",
      "Put              : 212.731\n",
      "Data Path     Put: 175.7385\n",
      "us-central       Put: 30.16  |  28.9815  |  1.1785\n",
      "eu-north-europe      Put: 153.9915  |  45.5715  |  108.42\n",
      "asia-japan-east         Put: 166.675  |  21.6365  |  145.0385\n",
      "----------------------------------------------------------\n",
      "Metadata Path Put: 209.5905\n",
      "Get Highest Version: 6.875\n",
      "Do Fast Paxos     : 202.7155\n",
      "us-central        Put: 66.3275  |  66.178  |  0.1495\n",
      "eu-north-europe       Put: 171.398  |  69.1085  |  102.2895\n",
      "asia-japan-east          Put: 202.15  |  62.9365  |  139.2135\n",
      "###########################################################\n",
      "Put              : 211.544\n",
      "Data Path     Put: 157.1395\n",
      "us-central       Put: 14.2515  |  13.787  |  0.4645\n",
      "eu-north-europe      Put: 126.619  |  20.2825  |  106.3365\n",
      "asia-japan-east         Put: 154.3815  |  10.348  |  144.0335\n",
      "----------------------------------------------------------\n",
      "Metadata Path Put: 209.5885\n",
      "Get Highest Version: 6.7795\n",
      "Do Fast Paxos     : 202.809\n",
      "us-central        Put: 65.732  |  65.6345  |  0.0975\n",
      "eu-north-europe       Put: 171.414  |  69.2725  |  102.1415\n",
      "asia-japan-east          Put: 202.327  |  63.0825  |  139.2445\n",
      "###########################################################\n"
     ]
    }
   ],
   "source": [
    "# 2-1 US 4mb\n",
    "three_dc = ['us-central', 'eu-north-europe', 'asia-japan-east']\n",
    "put_result('4mb/put/', 50, '4mb', three_dc)\n",
    "print '###########################################################'\n",
    "put_result('2mb/put/', 50, '2mb', three_dc)\n",
    "print '###########################################################'\n",
    "put_result('1mb/put/', 50, '1mb', three_dc)\n",
    "print '###########################################################'\n",
    "put_result('256kb/put/', 50, '256kb', three_dc)\n",
    "print '###########################################################'"
   ]
  },
  {
   "cell_type": "code",
   "execution_count": 22,
   "metadata": {
    "collapsed": false
   },
   "outputs": [
    {
     "name": "stdout",
     "output_type": "stream",
     "text": [
      "Get:               348.3411\n",
      "Data Path     Get: 319.27565\n",
      "us-central       Get: 83.56285  |  80.32705  |  3.2358\n",
      "eu-north-europe      Get: 315.4111  |  205.3346  |  110.0765\n",
      "----------------------------------------------------------\n",
      "Get Local Highest Version: 27.8263\n",
      "Get Global Highest Version: 118.3087\n",
      "us-central        Get: 14.62315  |  14.4739  |  0.14925\n",
      "eu-north-europe       Get: 118.05315  |  15.58015  |  102.473\n",
      "#############################################################\n",
      "Get:               309.26915\n",
      "Data Path     Get: 281.21195\n",
      "us-central       Get: 72.4401  |  71.21915  |  1.22095\n",
      "eu-north-europe      Get: 279.7214  |  169.69395  |  110.02745\n",
      "----------------------------------------------------------\n",
      "Get Local Highest Version: 35.17985\n",
      "Get Global Highest Version: 121.5108\n",
      "us-central        Get: 17.40555  |  17.3083  |  0.09725\n",
      "eu-north-europe       Get: 121.08305  |  19.00175  |  102.0813\n",
      "#############################################################\n",
      "Get:               360.894\n",
      "Data Path     Get: 329.17645\n",
      "us-central       Get: 65.4111  |  64.75895  |  0.65215\n",
      "eu-north-europe      Get: 328.36865  |  216.5477  |  111.82095\n",
      "----------------------------------------------------------\n",
      "Get Local Highest Version: 33.5435\n",
      "Get Global Highest Version: 118.224\n",
      "us-central        Get: 16.8659  |  16.77075  |  0.09515\n",
      "eu-north-europe       Get: 117.60775  |  15.1328  |  102.47495\n",
      "#############################################################\n",
      "Get:               334.2951\n",
      "Data Path     Get: 308.63855\n",
      "us-central       Get: 44.829  |  44.55675  |  0.27225\n",
      "eu-north-europe      Get: 304.84505  |  193.2606  |  111.58445\n",
      "----------------------------------------------------------\n",
      "Get Local Highest Version: 27.87485\n",
      "Get Global Highest Version: 115.998\n",
      "us-central        Get: 14.18965  |  14.0771  |  0.11255\n",
      "eu-north-europe       Get: 115.5833  |  13.35265  |  102.23065\n",
      "#############################################################\n"
     ]
    }
   ],
   "source": [
    "get_result('4mb/get/', 95, '4mb', three_dc)\n",
    "print '#############################################################'\n",
    "get_result('2mb/get/', 95, '2mb', three_dc)\n",
    "print '#############################################################'\n",
    "get_result('1mb/get/', 95, '1mb', three_dc)\n",
    "print '#############################################################'\n",
    "get_result('256kb/get/', 95, '256kb', three_dc)\n",
    "print '#############################################################'"
   ]
  },
  {
   "cell_type": "code",
   "execution_count": null,
   "metadata": {
    "collapsed": true
   },
   "outputs": [],
   "source": [
    "def get_std(file_name, percentile):\n",
    "    from collections import defaultdict\n",
    "    d = defaultdict(list)\n",
    "    with open(file_name) as f:\n",
    "        for line in f:\n",
    "            l = line.split()\n",
    "            if len(l) == 3:\n",
    "                key = l[0] + l[1]\n",
    "                d[key].append(int(l[2]))\n",
    "            elif len(l) == 4:\n",
    "                key = l[0] + l[1] + l[2]\n",
    "                d[key].append(int(l[3]))\n",
    "            else:\n",
    "                d[l[0]].append(int(l[1]))\n",
    "    dic = {}\n",
    "    import numpy as np\n",
    "    for key, value in d.iteritems():\n",
    "        a = np.array(value)\n",
    "#         print np.amax(a)\n",
    "        p = np.std(a, percentile)/1000\n",
    "        dic[key] = p\n",
    "    return dic"
   ]
  },
  {
   "cell_type": "code",
   "execution_count": 23,
   "metadata": {
    "collapsed": true
   },
   "outputs": [],
   "source": [
    "def get_list(file_name):\n",
    "    from collections import defaultdict\n",
    "    d = defaultdict(list)\n",
    "    with open(file_name) as f:\n",
    "        for line in f:\n",
    "            l = line.split()\n",
    "            if len(l) == 3:\n",
    "                key = l[0] + l[1]\n",
    "                d[key].append(int(l[2]))\n",
    "            elif len(l) == 4:\n",
    "                key = l[0] + l[1] + l[2]\n",
    "                d[key].append(int(l[3]))\n",
    "            else:\n",
    "                if len(l) == 0 or len(l) == 1:\n",
    "                    continue\n",
    "\n",
    "                d[l[0]].append(int(l[1]))\n",
    "    return d"
   ]
  },
  {
   "cell_type": "code",
   "execution_count": 37,
   "metadata": {
    "collapsed": false
   },
   "outputs": [
    {
     "name": "stdout",
     "output_type": "stream",
     "text": [
      "74406.5214785\n",
      "16780.6758329\n"
     ]
    }
   ],
   "source": [
    "import numpy as np\n",
    "a = get_list('4mb/put/eu-north-europe_table_server.log')\n",
    "print np.mean(a['Accept_Phase_AzureTable_eu-north-europe'])\n",
    "print np.std(a['Accept_Phase_AzureTable_eu-north-europe'])"
   ]
  },
  {
   "cell_type": "code",
   "execution_count": 10,
   "metadata": {
    "collapsed": true
   },
   "outputs": [],
   "source": [
    "def put_result_seven(fp, percentile, size, three_dc):\n",
    "    f = fp + 'performance_log/giza_latency_put_' + size + '.txt.log'\n",
    "    print 'Put              : ' + str(get_percentile(f, percentile)['Put'])\n",
    "    print 'Data Path     Put: ' + str(get_percentile(f, percentile)['SendErasureEncode'])\n",
    "    print three_dc[0] + '       Put: ' + data_breakdown_row(fp, three_dc[0], percentile)\n",
    "    print three_dc[1] + '      Put: ' + data_breakdown_row(fp, three_dc[1], percentile)\n",
    "    print three_dc[2] + '         Put: ' + data_breakdown_row(fp, three_dc[2], percentile)\n",
    "    print three_dc[3] + '         Put: ' + data_breakdown_row(fp, three_dc[3], percentile)\n",
    "    print three_dc[4] + '         Put: ' + data_breakdown_row(fp, three_dc[4], percentile)\n",
    "    print three_dc[5] + '         Put: ' + data_breakdown_row(fp, three_dc[5], percentile)\n",
    "    print three_dc[6] + '         Put: ' + data_breakdown_row(fp, three_dc[6], percentile)\n",
    "    print '----------------------------------------------------------'\n",
    "    get_version_latency = get_percentile(f, percentile)['GetLocalHighestCommittedVersionNumber']\n",
    "    fast_paxos_latency = get_percentile(f, percentile)['DoPhase2']\n",
    "    print 'Metadata Path Put: ' + str(get_version_latency + fast_paxos_latency)\n",
    "    print 'Get Highest Version: ' + str(get_version_latency)\n",
    "    print 'Do Fast Paxos     : ' + str(fast_paxos_latency)\n",
    "    print three_dc[0] + '        Put: ' + metadata_breakdown_row(fp, three_dc[0], percentile)\n",
    "    print three_dc[1] + '       Put: ' + metadata_breakdown_row(fp, three_dc[1], percentile)\n",
    "    print three_dc[2] + '          Put: ' + metadata_breakdown_row(fp, three_dc[2], percentile)\n",
    "\n",
    "def get_result_seven(fp, percentile, size, three_dc):\n",
    "    f = fp + 'performance_log/giza_latency_get_' + size + '.txt.log'\n",
    "    print 'Get:               ' + str(get_percentile(f, percentile)['mainGet'])\n",
    "    print 'Data Path     Get: ' + str(get_percentile(f, percentile)['GetErasureEncode'])\n",
    "    print three_dc[0] + '       Get: ' + get_data_breakdown_row(fp, three_dc[0], percentile)\n",
    "    print three_dc[1] + '      Get: ' + get_data_breakdown_row(fp, three_dc[1], percentile)\n",
    "    print three_dc[2] + '      Get: ' + get_data_breakdown_row(fp, three_dc[1], percentile)\n",
    "    print three_dc[3] + '      Get: ' + get_data_breakdown_row(fp, three_dc[1], percentile)\n",
    "    print three_dc[4] + '      Get: ' + get_data_breakdown_row(fp, three_dc[1], percentile)\n",
    "    print three_dc[5] + '      Get: ' + get_data_breakdown_row(fp, three_dc[1], percentile)\n",
    "    print '----------------------------------------------------------'\n",
    "    get_version_latency = get_percentile(f, percentile)['GetLocal']\n",
    "    print 'Get Local Highest Version: ' + str(get_version_latency)\n",
    "    print 'Get Global Highest Version: ' + str(get_percentile(f, percentile)['GetGlobalHighestCommittedVersion'])\n",
    "    print three_dc[0] + '        Get: ' + get_metadata_breakdown_row(fp, three_dc[0], percentile)\n",
    "    print three_dc[1] + '       Get: ' + get_metadata_breakdown_row(fp, three_dc[1], percentile)"
   ]
  },
  {
   "cell_type": "code",
   "execution_count": 9,
   "metadata": {
    "collapsed": false
   },
   "outputs": [
    {
     "name": "stdout",
     "output_type": "stream",
     "text": [
      "Put              : 1055.20365\n",
      "Data Path     Put: 1052.16725\n",
      "us-central       Put: 74.63  |  77.2827  |  -2.6527\n",
      "us-south-central      Put: 344.231  |  177.7975  |  166.4335\n",
      "us-west1         Put: 348.506  |  116.77295  |  231.73305\n",
      "us-west1         Put: 738.449  |  116.9295  |  621.5195\n",
      "us-west1         Put: 732.353  |  55.9891  |  676.3639\n",
      "us-west1         Put: 983.737  |  177.10445  |  806.63255\n"
     ]
    },
    {
     "ename": "KeyError",
     "evalue": "'Put_Thrift_Storage_'",
     "output_type": "error",
     "traceback": [
      "\u001b[0;31m--------------------------------------\u001b[0m",
      "\u001b[0;31mKeyError\u001b[0mTraceback (most recent call last)",
      "\u001b[0;32m<ipython-input-9-be2f1368dbb1>\u001b[0m in \u001b[0;36m<module>\u001b[0;34m()\u001b[0m\n\u001b[1;32m      1\u001b[0m \u001b[0mthree_dc\u001b[0m \u001b[0;34m=\u001b[0m \u001b[0;34m[\u001b[0m\u001b[0;34m'us-central'\u001b[0m\u001b[0;34m,\u001b[0m \u001b[0;34m'us-south-central'\u001b[0m\u001b[0;34m,\u001b[0m \u001b[0;34m'us-west1'\u001b[0m\u001b[0;34m,\u001b[0m \u001b[0;34m'eu-north-europe'\u001b[0m\u001b[0;34m,\u001b[0m \u001b[0;34m'eu-uk-west'\u001b[0m\u001b[0;34m,\u001b[0m \u001b[0;34m'asia-japan-east'\u001b[0m\u001b[0;34m,\u001b[0m \u001b[0;34m'asia-japan-west'\u001b[0m\u001b[0;34m]\u001b[0m\u001b[0;34m\u001b[0m\u001b[0m\n\u001b[0;32m----> 2\u001b[0;31m \u001b[0mput_result_seven\u001b[0m\u001b[0;34m(\u001b[0m\u001b[0;34m'4mb/put/'\u001b[0m\u001b[0;34m,\u001b[0m \u001b[0;36m95\u001b[0m\u001b[0;34m,\u001b[0m \u001b[0;34m'4mb'\u001b[0m\u001b[0;34m,\u001b[0m \u001b[0mthree_dc\u001b[0m\u001b[0;34m)\u001b[0m\u001b[0;34m\u001b[0m\u001b[0m\n\u001b[0m",
      "\u001b[0;32m<ipython-input-8-1474185b74c4>\u001b[0m in \u001b[0;36mput_result_seven\u001b[0;34m(fp, percentile, size, three_dc)\u001b[0m\n\u001b[1;32m      9\u001b[0m     \u001b[0;32mprint\u001b[0m \u001b[0mthree_dc\u001b[0m\u001b[0;34m[\u001b[0m\u001b[0;36m2\u001b[0m\u001b[0;34m]\u001b[0m \u001b[0;34m+\u001b[0m \u001b[0;34m'         Put: '\u001b[0m \u001b[0;34m+\u001b[0m \u001b[0mdata_breakdown_row\u001b[0m\u001b[0;34m(\u001b[0m\u001b[0mfp\u001b[0m\u001b[0;34m,\u001b[0m \u001b[0mthree_dc\u001b[0m\u001b[0;34m[\u001b[0m\u001b[0;36m4\u001b[0m\u001b[0;34m]\u001b[0m\u001b[0;34m,\u001b[0m \u001b[0mpercentile\u001b[0m\u001b[0;34m)\u001b[0m\u001b[0;34m\u001b[0m\u001b[0m\n\u001b[1;32m     10\u001b[0m     \u001b[0;32mprint\u001b[0m \u001b[0mthree_dc\u001b[0m\u001b[0;34m[\u001b[0m\u001b[0;36m2\u001b[0m\u001b[0;34m]\u001b[0m \u001b[0;34m+\u001b[0m \u001b[0;34m'         Put: '\u001b[0m \u001b[0;34m+\u001b[0m \u001b[0mdata_breakdown_row\u001b[0m\u001b[0;34m(\u001b[0m\u001b[0mfp\u001b[0m\u001b[0;34m,\u001b[0m \u001b[0mthree_dc\u001b[0m\u001b[0;34m[\u001b[0m\u001b[0;36m5\u001b[0m\u001b[0;34m]\u001b[0m\u001b[0;34m,\u001b[0m \u001b[0mpercentile\u001b[0m\u001b[0;34m)\u001b[0m\u001b[0;34m\u001b[0m\u001b[0m\n\u001b[0;32m---> 11\u001b[0;31m     \u001b[0;32mprint\u001b[0m \u001b[0mthree_dc\u001b[0m\u001b[0;34m[\u001b[0m\u001b[0;36m2\u001b[0m\u001b[0;34m]\u001b[0m \u001b[0;34m+\u001b[0m \u001b[0;34m'         Put: '\u001b[0m \u001b[0;34m+\u001b[0m \u001b[0mdata_breakdown_row\u001b[0m\u001b[0;34m(\u001b[0m\u001b[0mfp\u001b[0m\u001b[0;34m,\u001b[0m \u001b[0mthree_dc\u001b[0m\u001b[0;34m[\u001b[0m\u001b[0;36m6\u001b[0m\u001b[0;34m]\u001b[0m\u001b[0;34m,\u001b[0m \u001b[0mpercentile\u001b[0m\u001b[0;34m)\u001b[0m\u001b[0;34m\u001b[0m\u001b[0m\n\u001b[0m\u001b[1;32m     12\u001b[0m     \u001b[0;32mprint\u001b[0m \u001b[0;34m'----------------------------------------------------------'\u001b[0m\u001b[0;34m\u001b[0m\u001b[0m\n\u001b[1;32m     13\u001b[0m     \u001b[0mget_version_latency\u001b[0m \u001b[0;34m=\u001b[0m \u001b[0mget_percentile\u001b[0m\u001b[0;34m(\u001b[0m\u001b[0mf\u001b[0m\u001b[0;34m,\u001b[0m \u001b[0mpercentile\u001b[0m\u001b[0;34m)\u001b[0m\u001b[0;34m[\u001b[0m\u001b[0;34m'GetLocalHighestCommittedVersionNumber'\u001b[0m\u001b[0;34m]\u001b[0m\u001b[0;34m\u001b[0m\u001b[0m\n",
      "\u001b[0;32m<ipython-input-6-ea859d5cead5>\u001b[0m in \u001b[0;36mdata_breakdown_row\u001b[0;34m(fp, storage_name, percentile)\u001b[0m\n\u001b[1;32m     34\u001b[0m \u001b[0;34m\u001b[0m\u001b[0m\n\u001b[1;32m     35\u001b[0m \u001b[0;32mdef\u001b[0m \u001b[0mdata_breakdown_row\u001b[0m\u001b[0;34m(\u001b[0m\u001b[0mfp\u001b[0m\u001b[0;34m,\u001b[0m \u001b[0mstorage_name\u001b[0m\u001b[0;34m,\u001b[0m \u001b[0mpercentile\u001b[0m\u001b[0;34m)\u001b[0m\u001b[0;34m:\u001b[0m\u001b[0;34m\u001b[0m\u001b[0m\n\u001b[0;32m---> 36\u001b[0;31m     \u001b[0mthrift_latency\u001b[0m \u001b[0;34m=\u001b[0m \u001b[0mget_percentile\u001b[0m\u001b[0;34m(\u001b[0m\u001b[0mfp\u001b[0m \u001b[0;34m+\u001b[0m \u001b[0;34m\"giza_trace.log\"\u001b[0m\u001b[0;34m,\u001b[0m \u001b[0mpercentile\u001b[0m\u001b[0;34m)\u001b[0m\u001b[0;34m[\u001b[0m\u001b[0;34m'Put_Thrift_Storage_'\u001b[0m \u001b[0;34m+\u001b[0m \u001b[0mdic\u001b[0m\u001b[0;34m[\u001b[0m\u001b[0mstorage_name\u001b[0m\u001b[0;34m]\u001b[0m\u001b[0;34m]\u001b[0m\u001b[0;34m\u001b[0m\u001b[0m\n\u001b[0m\u001b[1;32m     37\u001b[0m     \u001b[0mazure_latency\u001b[0m \u001b[0;34m=\u001b[0m \u001b[0mget_percentile\u001b[0m\u001b[0;34m(\u001b[0m\u001b[0mfp\u001b[0m \u001b[0;34m+\u001b[0m \u001b[0mstorage_name\u001b[0m \u001b[0;34m+\u001b[0m \u001b[0;34m\"_storage_server.log\"\u001b[0m\u001b[0;34m,\u001b[0m \u001b[0mpercentile\u001b[0m\u001b[0;34m)\u001b[0m\u001b[0;34m[\u001b[0m\u001b[0;34m'Put_Azure_'\u001b[0m \u001b[0;34m+\u001b[0m \u001b[0mstorage_name\u001b[0m\u001b[0;34m]\u001b[0m\u001b[0;34m\u001b[0m\u001b[0m\n\u001b[1;32m     38\u001b[0m     \u001b[0mdifference\u001b[0m \u001b[0;34m=\u001b[0m \u001b[0mthrift_latency\u001b[0m \u001b[0;34m-\u001b[0m \u001b[0mazure_latency\u001b[0m\u001b[0;34m\u001b[0m\u001b[0m\n",
      "\u001b[0;31mKeyError\u001b[0m: 'Put_Thrift_Storage_'"
     ]
    }
   ],
   "source": [
    "three_dc = ['us-central', 'us-south-central', 'us-west1', 'eu-north-europe', 'eu-uk-west', 'asia-japan-east', 'asia-japan-west']\n",
    "put_result_seven('4mb/put/', 95, '4mb', three_dc)"
   ]
  },
  {
   "cell_type": "code",
   "execution_count": null,
   "metadata": {
    "collapsed": true
   },
   "outputs": [],
   "source": []
  }
 ],
 "metadata": {
  "kernelspec": {
   "display_name": "Python 2",
   "language": "python",
   "name": "python2"
  },
  "language_info": {
   "codemirror_mode": {
    "name": "ipython",
    "version": 2
   },
   "file_extension": ".py",
   "mimetype": "text/x-python",
   "name": "python",
   "nbconvert_exporter": "python",
   "pygments_lexer": "ipython2",
   "version": "2.7.11"
  }
 },
 "nbformat": 4,
 "nbformat_minor": 0
}

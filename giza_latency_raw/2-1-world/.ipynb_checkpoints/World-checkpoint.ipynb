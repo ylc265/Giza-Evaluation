{
 "cells": [
  {
   "cell_type": "code",
   "execution_count": 10,
   "metadata": {
    "collapsed": true
   },
   "outputs": [],
   "source": [
    "dic = {}\n",
    "dic['us-south-central'] = '13.65.92.139'\n",
    "dic['us-west1'] = \"13.93.236.162\"\n",
    "dic['us-central'] = \"localhost\"\n",
    "dic['asia-japan-east'] = \"13.78.83.9\"\n",
    "dic['eu-north-europe'] = '52.178.201.184'\n",
    "dic['eu-uk-west'] = '51.141.11.143'\n",
    "dic['asia-japan-west'] = '104.214.146.200'\n",
    "def get_percentile(file_name, percentile):\n",
    "    from collections import defaultdict\n",
    "    d = defaultdict(list)\n",
    "    with open(file_name) as f:\n",
    "        for line in f:\n",
    "            l = line.split()\n",
    "            if len(l) == 3:\n",
    "                key = l[0] + l[1]\n",
    "                d[key].append(int(l[2]))\n",
    "            elif len(l) == 4:\n",
    "                key = l[0] + l[1] + l[2]\n",
    "                d[key].append(int(l[3]))\n",
    "            else:\n",
    "                if len(l) == 0 or len(l) == 1:\n",
    "                    continue\n",
    "\n",
    "                d[l[0]].append(int(l[1]))\n",
    "    dic = {}\n",
    "    import numpy as np\n",
    "    for key, value in d.iteritems():\n",
    "        a = np.array(value)\n",
    "#         print np.amax(a)\n",
    "        p = np.percentile(a, percentile)/1000\n",
    "        dic[key] = p\n",
    "    return dic\n",
    "\n",
    "def data_breakdown_row(fp, storage_name, percentile):\n",
    "    thrift_latency = get_percentile(fp + \"giza_trace.log\", percentile)['Put_Thrift_Storage_' + dic[storage_name]]\n",
    "    azure_latency = get_percentile(fp + storage_name + \"_storage_server.log\", percentile)['Put_Azure_' + storage_name]\n",
    "    difference = thrift_latency - azure_latency\n",
    "    return '{:10} {:10} {:10}'.format(str(thrift_latency), str(azure_latency), str(difference))\n",
    "    \n",
    "def metadata_breakdown_row(fp, storage_name, percentile):\n",
    "    thrift_latency = get_percentile(fp + \"giza_trace.log\", percentile)['Accept_Phase_thrfit_Table_' + storage_name]\n",
    "    azure_latency = get_percentile(fp + storage_name + \"_table_server.log\", percentile)['Accept_Phase_AzureTable_' + storage_name]\n",
    "    difference = thrift_latency - azure_latency\n",
    "    return '{:10} {:10} {:10}'.format(str(thrift_latency), str(azure_latency), str(difference))\n",
    "\n",
    "def get_data_breakdown_row(fp, storage_name, percentile):\n",
    "    thrift_latency = get_percentile(fp + \"giza_trace.log\", percentile)['GET_Thrift_Storage_' + dic[storage_name]]\n",
    "    azure_latency = get_percentile(fp + storage_name + \"_storage_server.log\", percentile)['Get_Azure_' + storage_name]\n",
    "    difference = thrift_latency - azure_latency\n",
    "    return '{:10} {:10} {:10}'.format(str(thrift_latency), str(azure_latency), str(difference))\n",
    "    \n",
    "def get_metadata_breakdown_row(fp, storage_name, percentile):\n",
    "    thrift_latency = get_percentile(fp + \"giza_trace.log\", percentile)['Get_Highest_Version_Thrift_Table_' + storage_name]\n",
    "    azure_latency = get_percentile(fp + storage_name + \"_table_server.log\", percentile)['Get_Highest_Version_Number_AzureTable_' + storage_name]\n",
    "    difference = thrift_latency - azure_latency\n",
    "    return '{:10} {:10} {:10}'.format(str(thrift_latency), str(azure_latency), str(difference))\n"
   ]
  },
  {
   "cell_type": "code",
   "execution_count": 12,
   "metadata": {
    "collapsed": false
   },
   "outputs": [],
   "source": [
    "def put_result(fp, percentile, size, three_dc):\n",
    "    f = fp + 'performance_log/giza_latency_put_' + size + '.txt.log'\n",
    "    print '{:20} {:20}'.format('Put:', str(get_percentile(f, percentile)['Put']))\n",
    "    print '{:20} {:20}'.format ('Data Path Put:', str(get_percentile(f, percentile)['SendErasureEncode']))\n",
    "    for i in range(len(three_dc)):\n",
    "        print '{:20} {:20}'.format(three_dc[i] + ' Put:', data_breakdown_row(fp, three_dc[i], percentile))\n",
    "    print ' '\n",
    "    get_version_latency = get_percentile(f, percentile)['GetLocalHighestCommittedVersionNumber']\n",
    "    fast_paxos_latency = get_percentile(f, percentile)['DoPhase2']\n",
    "    print '{:20} {:20}'.format('Metadata Path Put:', str(get_version_latency + fast_paxos_latency))\n",
    "    print '{:20} {:20}'.format('Get Highest Version:', str(get_version_latency))\n",
    "    print '{:20} {:20}'.format('Do Fast Paxos:', str(fast_paxos_latency))\n",
    "    for i in range(len(three_dc)):\n",
    "        print '{:20} {:20}'.format(three_dc[i] + ' Put:', metadata_breakdown_row(fp, three_dc[i], percentile))\n",
    "\n",
    "def get_result(fp, percentile, size, three_dc):\n",
    "    f = fp + 'performance_log/giza_latency_get_' + size + '.txt.log'\n",
    "    print 'Get:           ' + str(get_percentile(f, percentile)['mainGet'])\n",
    "    print 'Data Path Get: ' + str(get_percentile(f, percentile)['GetErasureEncode'])\n",
    "    print three_dc[0] + '       Get: ' + get_data_breakdown_row(fp, three_dc[0], percentile)\n",
    "    print three_dc[1] + '      Get: ' + get_data_breakdown_row(fp, three_dc[1], percentile)\n",
    "    print ' '\n",
    "    get_version_latency = get_percentile(f, percentile)['GetLocal']\n",
    "    print 'Get Local Highest Version: ' + str(get_version_latency)\n",
    "    print 'Get Global Highest Version: ' + str(get_percentile(f, percentile)['GetGlobalHighestCommittedVersion'])\n",
    "    print three_dc[0] + '        Get: ' + get_metadata_breakdown_row(fp, three_dc[0], percentile)\n",
    "    print three_dc[1] + '       Get: ' + get_metadata_breakdown_row(fp, three_dc[1], percentile)\n"
   ]
  },
  {
   "cell_type": "code",
   "execution_count": 13,
   "metadata": {
    "collapsed": false
   },
   "outputs": [
    {
     "name": "stdout",
     "output_type": "stream",
     "text": [
      "Put:                 374.449             \n",
      "Data Path Put:       373.928             \n",
      "us-central Put:      71.334     66.725     4.609     \n",
      "eu-north-europe Put: 341.648    132.661    208.987   \n",
      "asia-japan-east Put: 333.4      60.742     272.658   \n",
      " \n",
      "Metadata Path Put:   269.686             \n",
      "Get Highest Version: 66.848              \n",
      "Do Fast Paxos:       202.838             \n",
      "us-central Put:      66.028     65.902     0.126     \n",
      "eu-north-europe Put: 173.077    70.917     102.16    \n",
      "asia-japan-east Put: 202.284    63.055     139.229   \n",
      "###########################################################\n",
      "Put:                 229.2265            \n",
      "Data Path Put:       217.173             \n",
      "us-central Put:      43.8355    41.607     2.2285    \n",
      "eu-north-europe Put: 187.822    76.6855    111.1365  \n",
      "asia-japan-east Put: 181.5485   34.998     146.5505  \n",
      " \n",
      "Metadata Path Put:   209.119             \n",
      "Get Highest Version: 6.727               \n",
      "Do Fast Paxos:       202.392             \n",
      "us-central Put:      65.959     65.829     0.13      \n",
      "eu-north-europe Put: 171.3085   69.157     102.1515  \n",
      "asia-japan-east Put: 201.872    62.8795    138.9925  \n",
      "###########################################################\n",
      "Put:                 212.731             \n",
      "Data Path Put:       175.7385            \n",
      "us-central Put:      30.16      28.9815    1.1785    \n",
      "eu-north-europe Put: 153.9915   45.5715    108.42    \n",
      "asia-japan-east Put: 166.675    21.6365    145.0385  \n",
      " \n",
      "Metadata Path Put:   209.5905            \n",
      "Get Highest Version: 6.875               \n",
      "Do Fast Paxos:       202.7155            \n",
      "us-central Put:      66.3275    66.178     0.1495    \n",
      "eu-north-europe Put: 171.398    69.1085    102.2895  \n",
      "asia-japan-east Put: 202.15     62.9365    139.2135  \n",
      "###########################################################\n",
      "Put:                 211.544             \n",
      "Data Path Put:       157.1395            \n",
      "us-central Put:      14.2515    13.787     0.4645    \n",
      "eu-north-europe Put: 126.619    20.2825    106.3365  \n",
      "asia-japan-east Put: 154.3815   10.348     144.0335  \n",
      " \n",
      "Metadata Path Put:   209.5885            \n",
      "Get Highest Version: 6.7795              \n",
      "Do Fast Paxos:       202.809             \n",
      "us-central Put:      65.732     65.6345    0.0975    \n",
      "eu-north-europe Put: 171.414    69.2725    102.1415  \n",
      "asia-japan-east Put: 202.327    63.0825    139.2445  \n",
      "###########################################################\n"
     ]
    }
   ],
   "source": [
    "# 2-1 US 4mb\n",
    "three_dc = ['us-central', 'eu-north-europe', 'asia-japan-east']\n",
    "put_result('4mb/put/', 50, '4mb', three_dc)\n",
    "print '###########################################################'\n",
    "put_result('2mb/put/', 50, '2mb', three_dc)\n",
    "print '###########################################################'\n",
    "put_result('1mb/put/', 50, '1mb', three_dc)\n",
    "print '###########################################################'\n",
    "put_result('256kb/put/', 50, '256kb', three_dc)\n",
    "print '###########################################################'"
   ]
  },
  {
   "cell_type": "code",
   "execution_count": 15,
   "metadata": {
    "collapsed": false
   },
   "outputs": [
    {
     "name": "stdout",
     "output_type": "stream",
     "text": [
      "Put              : 429.958\n",
      "Data Path     Put: 429.357\n",
      "central       Put: 105.89915  |  101.785  |  4.11415\n"
     ]
    },
    {
     "ename": "KeyError",
     "evalue": "'Put_Azure_us-north-europe'",
     "output_type": "error",
     "traceback": [
      "\u001b[0;31m-----------------------------------------------------------------------\u001b[0m",
      "\u001b[0;31mKeyError\u001b[0m                              Traceback (most recent call last)",
      "\u001b[0;32m<ipython-input-15-509fc388183c>\u001b[0m in \u001b[0;36m<module>\u001b[0;34m()\u001b[0m\n\u001b[1;32m      1\u001b[0m \u001b[0mthree_dc\u001b[0m \u001b[0;34m=\u001b[0m \u001b[0;34m[\u001b[0m\u001b[0;34m'central'\u001b[0m\u001b[0;34m,\u001b[0m \u001b[0;34m'north-europe'\u001b[0m\u001b[0;34m,\u001b[0m \u001b[0;34m'japan-east'\u001b[0m\u001b[0;34m]\u001b[0m\u001b[0;34m\u001b[0m\u001b[0m\n\u001b[0;32m----> 2\u001b[0;31m \u001b[0mput_result\u001b[0m\u001b[0;34m(\u001b[0m\u001b[0;34m'2-1-world/4mb/put/'\u001b[0m\u001b[0;34m,\u001b[0m \u001b[0;36m95\u001b[0m\u001b[0;34m,\u001b[0m \u001b[0;34m'4mb'\u001b[0m\u001b[0;34m,\u001b[0m \u001b[0mthree_dc\u001b[0m\u001b[0;34m)\u001b[0m\u001b[0;34m\u001b[0m\u001b[0m\n\u001b[0m",
      "\u001b[0;32m<ipython-input-8-62bfb5c3e4f7>\u001b[0m in \u001b[0;36mput_result\u001b[0;34m(fp, percentile, size, three_dc)\u001b[0m\n\u001b[1;32m      4\u001b[0m     \u001b[0;32mprint\u001b[0m \u001b[0;34m'Data Path     Put: '\u001b[0m \u001b[0;34m+\u001b[0m \u001b[0mstr\u001b[0m\u001b[0;34m(\u001b[0m\u001b[0mget_percentile\u001b[0m\u001b[0;34m(\u001b[0m\u001b[0mf\u001b[0m\u001b[0;34m,\u001b[0m \u001b[0mpercentile\u001b[0m\u001b[0;34m)\u001b[0m\u001b[0;34m[\u001b[0m\u001b[0;34m'SendErasureEncode'\u001b[0m\u001b[0;34m]\u001b[0m\u001b[0;34m)\u001b[0m\u001b[0;34m\u001b[0m\u001b[0m\n\u001b[1;32m      5\u001b[0m     \u001b[0;32mprint\u001b[0m \u001b[0mthree_dc\u001b[0m\u001b[0;34m[\u001b[0m\u001b[0;36m0\u001b[0m\u001b[0;34m]\u001b[0m \u001b[0;34m+\u001b[0m \u001b[0;34m'       Put: '\u001b[0m \u001b[0;34m+\u001b[0m \u001b[0mdata_breakdown_row\u001b[0m\u001b[0;34m(\u001b[0m\u001b[0mfp\u001b[0m\u001b[0;34m,\u001b[0m \u001b[0mthree_dc\u001b[0m\u001b[0;34m[\u001b[0m\u001b[0;36m0\u001b[0m\u001b[0;34m]\u001b[0m\u001b[0;34m,\u001b[0m \u001b[0mpercentile\u001b[0m\u001b[0;34m)\u001b[0m\u001b[0;34m\u001b[0m\u001b[0m\n\u001b[0;32m----> 6\u001b[0;31m     \u001b[0;32mprint\u001b[0m \u001b[0mthree_dc\u001b[0m\u001b[0;34m[\u001b[0m\u001b[0;36m1\u001b[0m\u001b[0;34m]\u001b[0m \u001b[0;34m+\u001b[0m \u001b[0;34m'      Put: '\u001b[0m \u001b[0;34m+\u001b[0m \u001b[0mdata_breakdown_row\u001b[0m\u001b[0;34m(\u001b[0m\u001b[0mfp\u001b[0m\u001b[0;34m,\u001b[0m \u001b[0mthree_dc\u001b[0m\u001b[0;34m[\u001b[0m\u001b[0;36m1\u001b[0m\u001b[0;34m]\u001b[0m\u001b[0;34m,\u001b[0m \u001b[0mpercentile\u001b[0m\u001b[0;34m)\u001b[0m\u001b[0;34m\u001b[0m\u001b[0m\n\u001b[0m\u001b[1;32m      7\u001b[0m     \u001b[0;32mprint\u001b[0m \u001b[0mthree_dc\u001b[0m\u001b[0;34m[\u001b[0m\u001b[0;36m2\u001b[0m\u001b[0;34m]\u001b[0m \u001b[0;34m+\u001b[0m \u001b[0;34m'         Put: '\u001b[0m \u001b[0;34m+\u001b[0m \u001b[0mdata_breakdown_row\u001b[0m\u001b[0;34m(\u001b[0m\u001b[0mfp\u001b[0m\u001b[0;34m,\u001b[0m \u001b[0mthree_dc\u001b[0m\u001b[0;34m[\u001b[0m\u001b[0;36m2\u001b[0m\u001b[0;34m]\u001b[0m\u001b[0;34m,\u001b[0m \u001b[0mpercentile\u001b[0m\u001b[0;34m)\u001b[0m\u001b[0;34m\u001b[0m\u001b[0m\n\u001b[1;32m      8\u001b[0m     \u001b[0;32mprint\u001b[0m \u001b[0;34m'----------------------------------------------------------'\u001b[0m\u001b[0;34m\u001b[0m\u001b[0m\n",
      "\u001b[0;32m<ipython-input-14-ce335be85897>\u001b[0m in \u001b[0;36mdata_breakdown_row\u001b[0;34m(fp, storage_name, percentile)\u001b[0m\n\u001b[1;32m     32\u001b[0m \u001b[0;32mdef\u001b[0m \u001b[0mdata_breakdown_row\u001b[0m\u001b[0;34m(\u001b[0m\u001b[0mfp\u001b[0m\u001b[0;34m,\u001b[0m \u001b[0mstorage_name\u001b[0m\u001b[0;34m,\u001b[0m \u001b[0mpercentile\u001b[0m\u001b[0;34m)\u001b[0m\u001b[0;34m:\u001b[0m\u001b[0;34m\u001b[0m\u001b[0m\n\u001b[1;32m     33\u001b[0m     \u001b[0mthrift_latency\u001b[0m \u001b[0;34m=\u001b[0m \u001b[0mget_percentile\u001b[0m\u001b[0;34m(\u001b[0m\u001b[0mfp\u001b[0m \u001b[0;34m+\u001b[0m \u001b[0;34m\"giza_trace.log\"\u001b[0m\u001b[0;34m,\u001b[0m \u001b[0mpercentile\u001b[0m\u001b[0;34m)\u001b[0m\u001b[0;34m[\u001b[0m\u001b[0;34m'Put_Thrift_Storage_'\u001b[0m \u001b[0;34m+\u001b[0m \u001b[0mdic\u001b[0m\u001b[0;34m[\u001b[0m\u001b[0mstorage_name\u001b[0m\u001b[0;34m]\u001b[0m\u001b[0;34m]\u001b[0m\u001b[0;34m\u001b[0m\u001b[0m\n\u001b[0;32m---> 34\u001b[0;31m     \u001b[0mazure_latency\u001b[0m \u001b[0;34m=\u001b[0m \u001b[0mget_percentile\u001b[0m\u001b[0;34m(\u001b[0m\u001b[0mfp\u001b[0m \u001b[0;34m+\u001b[0m \u001b[0mstorage_name\u001b[0m \u001b[0;34m+\u001b[0m \u001b[0;34m\"_storage_server.log\"\u001b[0m\u001b[0;34m,\u001b[0m \u001b[0mpercentile\u001b[0m\u001b[0;34m)\u001b[0m\u001b[0;34m[\u001b[0m\u001b[0;34m'Put_Azure_us-'\u001b[0m \u001b[0;34m+\u001b[0m \u001b[0mstorage_name\u001b[0m\u001b[0;34m]\u001b[0m\u001b[0;34m\u001b[0m\u001b[0m\n\u001b[0m\u001b[1;32m     35\u001b[0m     \u001b[0mdifference\u001b[0m \u001b[0;34m=\u001b[0m \u001b[0mthrift_latency\u001b[0m \u001b[0;34m-\u001b[0m \u001b[0mazure_latency\u001b[0m\u001b[0;34m\u001b[0m\u001b[0m\n\u001b[1;32m     36\u001b[0m     \u001b[0;32mreturn\u001b[0m \u001b[0mstr\u001b[0m\u001b[0;34m(\u001b[0m\u001b[0mthrift_latency\u001b[0m\u001b[0;34m)\u001b[0m \u001b[0;34m+\u001b[0m \u001b[0;34m\"  |  \"\u001b[0m \u001b[0;34m+\u001b[0m \u001b[0mstr\u001b[0m\u001b[0;34m(\u001b[0m\u001b[0mazure_latency\u001b[0m\u001b[0;34m)\u001b[0m \u001b[0;34m+\u001b[0m \u001b[0;34m\"  |  \"\u001b[0m \u001b[0;34m+\u001b[0m \u001b[0mstr\u001b[0m\u001b[0;34m(\u001b[0m\u001b[0mdifference\u001b[0m\u001b[0;34m)\u001b[0m\u001b[0;34m\u001b[0m\u001b[0m\n",
      "\u001b[0;31mKeyError\u001b[0m: 'Put_Azure_us-north-europe'"
     ]
    }
   ],
   "source": [
    "three_dc = ['central', 'north-europe', 'japan-east']\n",
    "put_result('2-1-world/4mb/put/', 95, '4mb', three_dc)"
   ]
  },
  {
   "cell_type": "code",
   "execution_count": 4,
   "metadata": {
    "collapsed": false
   },
   "outputs": [
    {
     "name": "stdout",
     "output_type": "stream",
     "text": [
      "Put              : 217.65365\n",
      "Data Path     Put: 158.1349\n",
      "Central       Put: 43.73165  |  42.6922  |  1.03945\n",
      "SCentral      Put: 134.3779  |  101.714  |  32.6639\n",
      "West1         Put: 136.00105  |  87.006  |  48.99505\n",
      "----------------------------------------------------------\n",
      "Metadata Path Put: 207.2153\n",
      "Get Highest Version: 15.1944\n",
      "Do Fast Paxos     : 192.0209\n",
      "Central        Put: 78.16415  |  78.02175  |  0.1424\n",
      "SCentral       Put: 155.2838  |  131.5869  |  23.6969\n",
      "West1          Put: 175.1092  |  137.04665  |  38.06255\n",
      "###########################################################\n",
      "Get:               168.74035\n",
      "Data Path     Get: 139.17215\n",
      "Central       Get: 61.58115  |  60.9419  |  0.63925\n",
      "SCentral      Get: 129.24795  |  103.221  |  26.02695\n",
      "----------------------------------------------------------\n",
      "Get Local Highest Version: 31.73155\n",
      "Get Global Highest Version: 57.9474\n",
      "Central        Get: 12.05605  |  11.96315  |  0.0929\n",
      "SCentral       Get: 56.6965  |  32.708  |  23.9885\n"
     ]
    }
   ],
   "source": [
    "put_result('2-1-us/1mb/put/', 95, '1mb')\n",
    "print '###########################################################'\n",
    "get_result('2-1-us/1mb/get/', 95, '1mb')"
   ]
  },
  {
   "cell_type": "code",
   "execution_count": 5,
   "metadata": {
    "collapsed": false
   },
   "outputs": [
    {
     "name": "stdout",
     "output_type": "stream",
     "text": [
      "Put              : 218.9031\n",
      "Data Path     Put: 125.9818\n",
      "Central       Put: 28.93765  |  28.4837  |  0.45395\n",
      "SCentral      Put: 104.152  |  74.0681  |  30.0839\n",
      "West1         Put: 111.3456  |  66.4388  |  44.9068\n",
      "----------------------------------------------------------\n",
      "Metadata Path Put: 212.9071\n",
      "Get Highest Version: 15.5203\n",
      "Do Fast Paxos     : 197.3868\n",
      "Central        Put: 26.9176  |  26.816  |  0.1016\n",
      "SCentral       Put: 162.94365  |  139.68505  |  23.2586\n",
      "West1          Put: 187.01905  |  149.18755  |  37.8315\n",
      "###########################################################\n",
      "Get:               171.8258\n",
      "Data Path     Get: 140.0561\n",
      "Central       Get: 53.73035  |  53.5461  |  0.18425\n",
      "SCentral      Get: 134.60735  |  110.2424  |  24.36495\n",
      "----------------------------------------------------------\n",
      "Get Local Highest Version: 30.5646\n",
      "Get Global Highest Version: 59.13075\n",
      "Central        Get: 13.2561  |  13.1763  |  0.0798\n",
      "SCentral       Get: 51.88945  |  28.5877  |  23.30175\n"
     ]
    }
   ],
   "source": [
    "put_result('2-1-us/256kb/put/', 95, '256kb')\n",
    "print '###########################################################'\n",
    "get_result('2-1-us/256kb/get/', 95, '256kb')"
   ]
  },
  {
   "cell_type": "code",
   "execution_count": 9,
   "metadata": {
    "collapsed": false
   },
   "outputs": [
    {
     "name": "stdout",
     "output_type": "stream",
     "text": [
      "Get:               677.275\n",
      "Data Path     Get: 550.452\n"
     ]
    },
    {
     "ename": "KeyError",
     "evalue": "'Put_Thrift_Storage_localhost'",
     "output_type": "error",
     "traceback": [
      "\u001b[0;31m-----------------------------------------------------------------------\u001b[0m",
      "\u001b[0;31mKeyError\u001b[0m                              Traceback (most recent call last)",
      "\u001b[0;32m<ipython-input-9-681d0f0614a6>\u001b[0m in \u001b[0;36m<module>\u001b[0;34m()\u001b[0m\n\u001b[1;32m     16\u001b[0m \u001b[0;32mprint\u001b[0m \u001b[0;34m'Get:               '\u001b[0m \u001b[0;34m+\u001b[0m \u001b[0mstr\u001b[0m\u001b[0;34m(\u001b[0m\u001b[0mget_percentile\u001b[0m\u001b[0;34m(\u001b[0m\u001b[0mf\u001b[0m\u001b[0;34m,\u001b[0m \u001b[0mpercentile\u001b[0m\u001b[0;34m)\u001b[0m\u001b[0;34m[\u001b[0m\u001b[0;34m'mainGet'\u001b[0m\u001b[0;34m]\u001b[0m\u001b[0;34m)\u001b[0m\u001b[0;34m\u001b[0m\u001b[0m\n\u001b[1;32m     17\u001b[0m \u001b[0;32mprint\u001b[0m \u001b[0;34m'Data Path     Get: '\u001b[0m \u001b[0;34m+\u001b[0m \u001b[0mstr\u001b[0m\u001b[0;34m(\u001b[0m\u001b[0mget_percentile\u001b[0m\u001b[0;34m(\u001b[0m\u001b[0mf\u001b[0m\u001b[0;34m,\u001b[0m \u001b[0mpercentile\u001b[0m\u001b[0;34m)\u001b[0m\u001b[0;34m[\u001b[0m\u001b[0;34m'GetErasureEncode'\u001b[0m\u001b[0;34m]\u001b[0m\u001b[0;34m)\u001b[0m\u001b[0;34m\u001b[0m\u001b[0m\n\u001b[0;32m---> 18\u001b[0;31m \u001b[0;32mprint\u001b[0m \u001b[0;34m'Central       Get: '\u001b[0m \u001b[0;34m+\u001b[0m \u001b[0mdata_breakdown_row\u001b[0m\u001b[0;34m(\u001b[0m\u001b[0;34m'central'\u001b[0m\u001b[0;34m,\u001b[0m \u001b[0mpercentile\u001b[0m\u001b[0;34m)\u001b[0m\u001b[0;34m\u001b[0m\u001b[0m\n\u001b[0m\u001b[1;32m     19\u001b[0m \u001b[0;32mprint\u001b[0m \u001b[0;34m'SCentral      Get: '\u001b[0m \u001b[0;34m+\u001b[0m \u001b[0mdata_breakdown_row\u001b[0m\u001b[0;34m(\u001b[0m\u001b[0;34m'south-central'\u001b[0m\u001b[0;34m,\u001b[0m \u001b[0mpercentile\u001b[0m\u001b[0;34m)\u001b[0m\u001b[0;34m\u001b[0m\u001b[0m\n\u001b[1;32m     20\u001b[0m \u001b[0;32mprint\u001b[0m \u001b[0;34m'----------------------------------------------------------'\u001b[0m\u001b[0;34m\u001b[0m\u001b[0m\n",
      "\u001b[0;32m<ipython-input-5-4f2d63305b92>\u001b[0m in \u001b[0;36mdata_breakdown_row\u001b[0;34m(storage_name, percentile)\u001b[0m\n\u001b[1;32m     27\u001b[0m \u001b[0;34m\u001b[0m\u001b[0m\n\u001b[1;32m     28\u001b[0m \u001b[0;32mdef\u001b[0m \u001b[0mdata_breakdown_row\u001b[0m\u001b[0;34m(\u001b[0m\u001b[0mstorage_name\u001b[0m\u001b[0;34m,\u001b[0m \u001b[0mpercentile\u001b[0m\u001b[0;34m)\u001b[0m\u001b[0;34m:\u001b[0m\u001b[0;34m\u001b[0m\u001b[0m\n\u001b[0;32m---> 29\u001b[0;31m     \u001b[0mthrift_latency\u001b[0m \u001b[0;34m=\u001b[0m \u001b[0mget_percentile\u001b[0m\u001b[0;34m(\u001b[0m\u001b[0;34m\"giza_trace.log\"\u001b[0m\u001b[0;34m,\u001b[0m \u001b[0mpercentile\u001b[0m\u001b[0;34m)\u001b[0m\u001b[0;34m[\u001b[0m\u001b[0;34m'Put_Thrift_Storage_'\u001b[0m \u001b[0;34m+\u001b[0m \u001b[0mdic\u001b[0m\u001b[0;34m[\u001b[0m\u001b[0mstorage_name\u001b[0m\u001b[0;34m]\u001b[0m\u001b[0;34m]\u001b[0m\u001b[0;34m\u001b[0m\u001b[0m\n\u001b[0m\u001b[1;32m     30\u001b[0m     \u001b[0mazure_latency\u001b[0m \u001b[0;34m=\u001b[0m \u001b[0mget_percentile\u001b[0m\u001b[0;34m(\u001b[0m\u001b[0mstorage_name\u001b[0m \u001b[0;34m+\u001b[0m \u001b[0;34m\"_storage_server.log\"\u001b[0m\u001b[0;34m,\u001b[0m \u001b[0mpercentile\u001b[0m\u001b[0;34m)\u001b[0m\u001b[0;34m[\u001b[0m\u001b[0;34m'Put_Azure_us-'\u001b[0m \u001b[0;34m+\u001b[0m \u001b[0mstorage_name\u001b[0m\u001b[0;34m]\u001b[0m\u001b[0;34m\u001b[0m\u001b[0m\n\u001b[1;32m     31\u001b[0m     \u001b[0mdifference\u001b[0m \u001b[0;34m=\u001b[0m \u001b[0mthrift_latency\u001b[0m \u001b[0;34m-\u001b[0m \u001b[0mazure_latency\u001b[0m\u001b[0;34m\u001b[0m\u001b[0m\n",
      "\u001b[0;31mKeyError\u001b[0m: 'Put_Thrift_Storage_localhost'"
     ]
    }
   ],
   "source": [
    "def get_data_breakdown_row(storage_name, percentile):\n",
    "    thrift_latency = get_percentile(\"giza_trace.log\", percentile)['GET_Thrift_Storage_' + dic[storage_name]]\n",
    "    azure_latency = get_percentile(storage_name + \"_storage_server.log\", percentile)['Get_Azure_us-' + storage_name]\n",
    "    difference = thrift_latency - azure_latency\n",
    "    return str(thrift_latency) + \"  |  \" + str(azure_latency) + \"  |  \" + str(difference)\n",
    "    \n",
    "def get_metadata_breakdown_row(storage_name, percentile):\n",
    "    thrift_latency = get_percentile(\"giza_trace.log\", percentile)['Get_Highest_Version_Thrift_Table_us-' + storage_name]\n",
    "    azure_latency = get_percentile(storage_name + \"_table_server.log\", percentile)['Get_Highest_Version_Number_AzureTable_us-' + storage_name]\n",
    "    difference = thrift_latency - azure_latency\n",
    "    return str(thrift_latency) + \"  |  \" + str(azure_latency) + \"  |  \" + str(difference)\n",
    "\n",
    "percentile = 95\n",
    "size = '4mb'\n",
    "f = 'performance_log/giza_latency_get_' + size + '.txt.log'\n",
    "print 'Get:               ' + str(get_percentile(f, percentile)['mainGet'])\n",
    "print 'Data Path     Get: ' + str(get_percentile(f, percentile)['GetErasureEncode'])\n",
    "print 'Central       Get: ' + data_breakdown_row('central', percentile)\n",
    "print 'SCentral      Get: ' + data_breakdown_row('south-central', percentile)\n",
    "print '----------------------------------------------------------'\n",
    "get_version_latency = get_percentile(f, percentile)['GetLocal']\n",
    "print 'Get Local Highest Version: ' + str(get_version_latency)\n",
    "print 'Get Global Highest Version: ' + str(get_percentile(f, percentile)['GetGlobalHighestCommittedVersion'])\n",
    "print 'Central        Get: ' + metadata_breakdown_row('central', percentile)\n",
    "print 'SCentral       Get: ' + metadata_breakdown_row('south-central', percentile)"
   ]
  },
  {
   "cell_type": "code",
   "execution_count": null,
   "metadata": {
    "collapsed": true
   },
   "outputs": [],
   "source": [
    "def get_std(file_name, percentile):\n",
    "    from collections import defaultdict\n",
    "    d = defaultdict(list)\n",
    "    with open(file_name) as f:\n",
    "        for line in f:\n",
    "            l = line.split()\n",
    "            if len(l) == 3:\n",
    "                key = l[0] + l[1]\n",
    "                d[key].append(int(l[2]))\n",
    "            elif len(l) == 4:\n",
    "                key = l[0] + l[1] + l[2]\n",
    "                d[key].append(int(l[3]))\n",
    "            else:\n",
    "                d[l[0]].append(int(l[1]))\n",
    "    dic = {}\n",
    "    import numpy as np\n",
    "    for key, value in d.iteritems():\n",
    "        a = np.array(value)\n",
    "#         print np.amax(a)\n",
    "        p = np.std(a, percentile)/1000\n",
    "        dic[key] = p\n",
    "    return dic"
   ]
  }
 ],
 "metadata": {
  "kernelspec": {
   "display_name": "Python 2",
   "language": "python",
   "name": "python2"
  },
  "language_info": {
   "codemirror_mode": {
    "name": "ipython",
    "version": 2
   },
   "file_extension": ".py",
   "mimetype": "text/x-python",
   "name": "python",
   "nbconvert_exporter": "python",
   "pygments_lexer": "ipython2",
   "version": "2.7.11"
  }
 },
 "nbformat": 4,
 "nbformat_minor": 0
}
